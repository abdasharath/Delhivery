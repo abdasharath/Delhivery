{
 "cells": [
  {
   "cell_type": "markdown",
   "id": "3b34cbe0",
   "metadata": {},
   "source": [
    "# Delhivery Feature Engineering"
   ]
  },
  {
   "cell_type": "markdown",
   "id": "00201a4b",
   "metadata": {},
   "source": [
    "**Introduction:**\n",
    "\n",
    "Delhivery, India's leading and rapidly growing integrated player, has set its sights on creating the commerce operating system. They achieve this by utilizing world-class infrastructure, ensuring the highest quality in logistics operations, and harnessing cutting-edge engineering and technology capabilities.\n",
    "\n",
    "**From Delhivery’s Perspective:**\n",
    "*  Delhivery aims to establish itself as the premier player in the logistics industry. This case study is of paramount importance as it aligns with the company's core objectives and operational excellence.\n",
    "*  It provides a practical framework for understanding and processing data, which is integral to their operations. By leveraging data engineering pipelines and data analysis techniques, Delhivery can achieve several critical goals.\n",
    "*  First, it allows them to ensure data integrity and quality by addressing missing values and structuring the dataset appropriately.\n",
    "*  Second, it enables the extraction of valuable features from raw data, which can be utilized for building accurate forecasting models.\n",
    "*  Moreover, it facilitates the identification of patterns, insights, and actionable recommendations crucial for optimizing their logistics operations.\n",
    "*  By conducting hypothesis testing and outlier detection, Delhivery can refine their processes and further enhance the quality of service they provide. "
   ]
  },
  {
   "cell_type": "markdown",
   "id": "5b0c0365",
   "metadata": {},
   "source": [
    "**Dataset:**\n",
    "\n",
    "https://d2beiqkhq929f0.cloudfront.net/public_assets/assets/000/001/551/original/delhivery_data.csv?1642751181\n"
   ]
  },
  {
   "cell_type": "markdown",
   "id": "4d8414fb",
   "metadata": {},
   "source": [
    "**Understanding the Dataset:**\n",
    "\n",
    "1. data - tells whether the data is testing or training data\n",
    "2. trip_creation_time – Timestamp of trip creation\n",
    "3. route_schedule_uuid – Unique ID for a particular route schedule\n",
    "4. route_type – Transportation type\n",
    "   a. FTL – Full Truck Load: FTL shipments get to the destination sooner, as the truck is making no other pickups or drop-offs along the way\n",
    "   b. Carting: Handling system consisting of small vehicles (carts)\n",
    "5. trip_uuid - Unique ID given to a particular trip (A trip may include different source and destination centers)\n",
    "6. source_center - Source ID of trip origin\n",
    "7. source_name - Source Name of trip origin\n",
    "8. destination_cente – Destination ID\n",
    "9. destination_name – Destination Name\n",
    "10. od_start_time – Trip start time\n",
    "11. od_end_time – Trip end time\n",
    "12. start_scan_to_end_scan – Time taken to deliver from source to destination\n",
    "13. is_cutoff – Unknown field\n",
    "14. cutoff_factor – Unknown field\n",
    "15. cutoff_timestamp – Unknown field\n",
    "16. actual_distance_to_destination – Distance in kms between source and destination warehouse\n",
    "17. actual_time – Actual time taken to complete the delivery (Cumulative)\n",
    "18. osrm_time – An open-source routing engine time calculator which computes the shortest path between points in a given map (Includes usual traffic, distance through major and minor roads) and gives the time (Cumulative)\n",
    "19. osrm_distance – An open-source routing engine which computes the shortest path between points in a given map (Includes usual traffic, distance through major and minor roads) (Cumulative)\n",
    "20. factor – Unknown field\n",
    "21. segment_actual_time – This is a segment time. Time taken by the subset of the package delivery\n",
    "22. segment_osrm_time – This is the OSRM segment time. Time taken by the subset of the package delivery\n",
    "23. segment_osrm_distance – This is the OSRM distance. Distance covered by subset of the package delivery\n",
    "24. segment_factor – Unknown field"
   ]
  },
  {
   "cell_type": "markdown",
   "id": "92fb4362",
   "metadata": {},
   "source": [
    "## Importing Required Libraries"
   ]
  },
  {
   "cell_type": "code",
   "execution_count": 1,
   "id": "be97f62a",
   "metadata": {},
   "outputs": [],
   "source": [
    "# Importing libraries -  \n",
    "import numpy as np\n",
    "import pandas as pd \n",
    "import matplotlib.pyplot as plt\n",
    "import seaborn as sns\n",
    "from scipy.stats import ttest_ind\n",
    "from scipy.stats import pearsonr\n",
    "import warnings\n",
    "warnings.simplefilter('ignore')"
   ]
  },
  {
   "cell_type": "code",
   "execution_count": 2,
   "id": "a9e47749",
   "metadata": {},
   "outputs": [
    {
     "data": {
      "text/html": [
       "<div>\n",
       "<style scoped>\n",
       "    .dataframe tbody tr th:only-of-type {\n",
       "        vertical-align: middle;\n",
       "    }\n",
       "\n",
       "    .dataframe tbody tr th {\n",
       "        vertical-align: top;\n",
       "    }\n",
       "\n",
       "    .dataframe thead th {\n",
       "        text-align: right;\n",
       "    }\n",
       "</style>\n",
       "<table border=\"1\" class=\"dataframe\">\n",
       "  <thead>\n",
       "    <tr style=\"text-align: right;\">\n",
       "      <th></th>\n",
       "      <th>data</th>\n",
       "      <th>trip_creation_time</th>\n",
       "      <th>route_schedule_uuid</th>\n",
       "      <th>route_type</th>\n",
       "      <th>trip_uuid</th>\n",
       "      <th>source_center</th>\n",
       "      <th>source_name</th>\n",
       "      <th>destination_center</th>\n",
       "      <th>destination_name</th>\n",
       "      <th>od_start_time</th>\n",
       "      <th>...</th>\n",
       "      <th>cutoff_timestamp</th>\n",
       "      <th>actual_distance_to_destination</th>\n",
       "      <th>actual_time</th>\n",
       "      <th>osrm_time</th>\n",
       "      <th>osrm_distance</th>\n",
       "      <th>factor</th>\n",
       "      <th>segment_actual_time</th>\n",
       "      <th>segment_osrm_time</th>\n",
       "      <th>segment_osrm_distance</th>\n",
       "      <th>segment_factor</th>\n",
       "    </tr>\n",
       "  </thead>\n",
       "  <tbody>\n",
       "    <tr>\n",
       "      <th>0</th>\n",
       "      <td>training</td>\n",
       "      <td>2018-09-20 02:35:36.476840</td>\n",
       "      <td>thanos::sroute:eb7bfc78-b351-4c0e-a951-fa3d5c3...</td>\n",
       "      <td>Carting</td>\n",
       "      <td>trip-153741093647649320</td>\n",
       "      <td>IND388121AAA</td>\n",
       "      <td>Anand_VUNagar_DC (Gujarat)</td>\n",
       "      <td>IND388620AAB</td>\n",
       "      <td>Khambhat_MotvdDPP_D (Gujarat)</td>\n",
       "      <td>2018-09-20 03:21:32.418600</td>\n",
       "      <td>...</td>\n",
       "      <td>2018-09-20 04:27:55</td>\n",
       "      <td>10.435660</td>\n",
       "      <td>14.0</td>\n",
       "      <td>11.0</td>\n",
       "      <td>11.9653</td>\n",
       "      <td>1.272727</td>\n",
       "      <td>14.0</td>\n",
       "      <td>11.0</td>\n",
       "      <td>11.9653</td>\n",
       "      <td>1.272727</td>\n",
       "    </tr>\n",
       "    <tr>\n",
       "      <th>1</th>\n",
       "      <td>training</td>\n",
       "      <td>2018-09-20 02:35:36.476840</td>\n",
       "      <td>thanos::sroute:eb7bfc78-b351-4c0e-a951-fa3d5c3...</td>\n",
       "      <td>Carting</td>\n",
       "      <td>trip-153741093647649320</td>\n",
       "      <td>IND388121AAA</td>\n",
       "      <td>Anand_VUNagar_DC (Gujarat)</td>\n",
       "      <td>IND388620AAB</td>\n",
       "      <td>Khambhat_MotvdDPP_D (Gujarat)</td>\n",
       "      <td>2018-09-20 03:21:32.418600</td>\n",
       "      <td>...</td>\n",
       "      <td>2018-09-20 04:17:55</td>\n",
       "      <td>18.936842</td>\n",
       "      <td>24.0</td>\n",
       "      <td>20.0</td>\n",
       "      <td>21.7243</td>\n",
       "      <td>1.200000</td>\n",
       "      <td>10.0</td>\n",
       "      <td>9.0</td>\n",
       "      <td>9.7590</td>\n",
       "      <td>1.111111</td>\n",
       "    </tr>\n",
       "    <tr>\n",
       "      <th>2</th>\n",
       "      <td>training</td>\n",
       "      <td>2018-09-20 02:35:36.476840</td>\n",
       "      <td>thanos::sroute:eb7bfc78-b351-4c0e-a951-fa3d5c3...</td>\n",
       "      <td>Carting</td>\n",
       "      <td>trip-153741093647649320</td>\n",
       "      <td>IND388121AAA</td>\n",
       "      <td>Anand_VUNagar_DC (Gujarat)</td>\n",
       "      <td>IND388620AAB</td>\n",
       "      <td>Khambhat_MotvdDPP_D (Gujarat)</td>\n",
       "      <td>2018-09-20 03:21:32.418600</td>\n",
       "      <td>...</td>\n",
       "      <td>2018-09-20 04:01:19.505586</td>\n",
       "      <td>27.637279</td>\n",
       "      <td>40.0</td>\n",
       "      <td>28.0</td>\n",
       "      <td>32.5395</td>\n",
       "      <td>1.428571</td>\n",
       "      <td>16.0</td>\n",
       "      <td>7.0</td>\n",
       "      <td>10.8152</td>\n",
       "      <td>2.285714</td>\n",
       "    </tr>\n",
       "    <tr>\n",
       "      <th>3</th>\n",
       "      <td>training</td>\n",
       "      <td>2018-09-20 02:35:36.476840</td>\n",
       "      <td>thanos::sroute:eb7bfc78-b351-4c0e-a951-fa3d5c3...</td>\n",
       "      <td>Carting</td>\n",
       "      <td>trip-153741093647649320</td>\n",
       "      <td>IND388121AAA</td>\n",
       "      <td>Anand_VUNagar_DC (Gujarat)</td>\n",
       "      <td>IND388620AAB</td>\n",
       "      <td>Khambhat_MotvdDPP_D (Gujarat)</td>\n",
       "      <td>2018-09-20 03:21:32.418600</td>\n",
       "      <td>...</td>\n",
       "      <td>2018-09-20 03:39:57</td>\n",
       "      <td>36.118028</td>\n",
       "      <td>62.0</td>\n",
       "      <td>40.0</td>\n",
       "      <td>45.5620</td>\n",
       "      <td>1.550000</td>\n",
       "      <td>21.0</td>\n",
       "      <td>12.0</td>\n",
       "      <td>13.0224</td>\n",
       "      <td>1.750000</td>\n",
       "    </tr>\n",
       "    <tr>\n",
       "      <th>4</th>\n",
       "      <td>training</td>\n",
       "      <td>2018-09-20 02:35:36.476840</td>\n",
       "      <td>thanos::sroute:eb7bfc78-b351-4c0e-a951-fa3d5c3...</td>\n",
       "      <td>Carting</td>\n",
       "      <td>trip-153741093647649320</td>\n",
       "      <td>IND388121AAA</td>\n",
       "      <td>Anand_VUNagar_DC (Gujarat)</td>\n",
       "      <td>IND388620AAB</td>\n",
       "      <td>Khambhat_MotvdDPP_D (Gujarat)</td>\n",
       "      <td>2018-09-20 03:21:32.418600</td>\n",
       "      <td>...</td>\n",
       "      <td>2018-09-20 03:33:55</td>\n",
       "      <td>39.386040</td>\n",
       "      <td>68.0</td>\n",
       "      <td>44.0</td>\n",
       "      <td>54.2181</td>\n",
       "      <td>1.545455</td>\n",
       "      <td>6.0</td>\n",
       "      <td>5.0</td>\n",
       "      <td>3.9153</td>\n",
       "      <td>1.200000</td>\n",
       "    </tr>\n",
       "  </tbody>\n",
       "</table>\n",
       "<p>5 rows × 24 columns</p>\n",
       "</div>"
      ],
      "text/plain": [
       "       data          trip_creation_time  \\\n",
       "0  training  2018-09-20 02:35:36.476840   \n",
       "1  training  2018-09-20 02:35:36.476840   \n",
       "2  training  2018-09-20 02:35:36.476840   \n",
       "3  training  2018-09-20 02:35:36.476840   \n",
       "4  training  2018-09-20 02:35:36.476840   \n",
       "\n",
       "                                 route_schedule_uuid route_type  \\\n",
       "0  thanos::sroute:eb7bfc78-b351-4c0e-a951-fa3d5c3...    Carting   \n",
       "1  thanos::sroute:eb7bfc78-b351-4c0e-a951-fa3d5c3...    Carting   \n",
       "2  thanos::sroute:eb7bfc78-b351-4c0e-a951-fa3d5c3...    Carting   \n",
       "3  thanos::sroute:eb7bfc78-b351-4c0e-a951-fa3d5c3...    Carting   \n",
       "4  thanos::sroute:eb7bfc78-b351-4c0e-a951-fa3d5c3...    Carting   \n",
       "\n",
       "                 trip_uuid source_center                 source_name  \\\n",
       "0  trip-153741093647649320  IND388121AAA  Anand_VUNagar_DC (Gujarat)   \n",
       "1  trip-153741093647649320  IND388121AAA  Anand_VUNagar_DC (Gujarat)   \n",
       "2  trip-153741093647649320  IND388121AAA  Anand_VUNagar_DC (Gujarat)   \n",
       "3  trip-153741093647649320  IND388121AAA  Anand_VUNagar_DC (Gujarat)   \n",
       "4  trip-153741093647649320  IND388121AAA  Anand_VUNagar_DC (Gujarat)   \n",
       "\n",
       "  destination_center               destination_name  \\\n",
       "0       IND388620AAB  Khambhat_MotvdDPP_D (Gujarat)   \n",
       "1       IND388620AAB  Khambhat_MotvdDPP_D (Gujarat)   \n",
       "2       IND388620AAB  Khambhat_MotvdDPP_D (Gujarat)   \n",
       "3       IND388620AAB  Khambhat_MotvdDPP_D (Gujarat)   \n",
       "4       IND388620AAB  Khambhat_MotvdDPP_D (Gujarat)   \n",
       "\n",
       "                od_start_time  ...            cutoff_timestamp  \\\n",
       "0  2018-09-20 03:21:32.418600  ...         2018-09-20 04:27:55   \n",
       "1  2018-09-20 03:21:32.418600  ...         2018-09-20 04:17:55   \n",
       "2  2018-09-20 03:21:32.418600  ...  2018-09-20 04:01:19.505586   \n",
       "3  2018-09-20 03:21:32.418600  ...         2018-09-20 03:39:57   \n",
       "4  2018-09-20 03:21:32.418600  ...         2018-09-20 03:33:55   \n",
       "\n",
       "   actual_distance_to_destination  actual_time  osrm_time osrm_distance  \\\n",
       "0                       10.435660         14.0       11.0       11.9653   \n",
       "1                       18.936842         24.0       20.0       21.7243   \n",
       "2                       27.637279         40.0       28.0       32.5395   \n",
       "3                       36.118028         62.0       40.0       45.5620   \n",
       "4                       39.386040         68.0       44.0       54.2181   \n",
       "\n",
       "     factor  segment_actual_time  segment_osrm_time  segment_osrm_distance  \\\n",
       "0  1.272727                 14.0               11.0                11.9653   \n",
       "1  1.200000                 10.0                9.0                 9.7590   \n",
       "2  1.428571                 16.0                7.0                10.8152   \n",
       "3  1.550000                 21.0               12.0                13.0224   \n",
       "4  1.545455                  6.0                5.0                 3.9153   \n",
       "\n",
       "   segment_factor  \n",
       "0        1.272727  \n",
       "1        1.111111  \n",
       "2        2.285714  \n",
       "3        1.750000  \n",
       "4        1.200000  \n",
       "\n",
       "[5 rows x 24 columns]"
      ]
     },
     "execution_count": 2,
     "metadata": {},
     "output_type": "execute_result"
    }
   ],
   "source": [
    "# Loading the dataset -\n",
    "df=pd.read_csv('delhivery_data.csv')\n",
    "df.head()"
   ]
  },
  {
   "cell_type": "code",
   "execution_count": 3,
   "id": "72903035",
   "metadata": {},
   "outputs": [
    {
     "name": "stdout",
     "output_type": "stream",
     "text": [
      "<class 'pandas.core.frame.DataFrame'>\n",
      "RangeIndex: 144867 entries, 0 to 144866\n",
      "Data columns (total 24 columns):\n",
      " #   Column                          Non-Null Count   Dtype  \n",
      "---  ------                          --------------   -----  \n",
      " 0   data                            144867 non-null  object \n",
      " 1   trip_creation_time              144867 non-null  object \n",
      " 2   route_schedule_uuid             144867 non-null  object \n",
      " 3   route_type                      144867 non-null  object \n",
      " 4   trip_uuid                       144867 non-null  object \n",
      " 5   source_center                   144867 non-null  object \n",
      " 6   source_name                     144574 non-null  object \n",
      " 7   destination_center              144867 non-null  object \n",
      " 8   destination_name                144606 non-null  object \n",
      " 9   od_start_time                   144867 non-null  object \n",
      " 10  od_end_time                     144867 non-null  object \n",
      " 11  start_scan_to_end_scan          144867 non-null  float64\n",
      " 12  is_cutoff                       144867 non-null  bool   \n",
      " 13  cutoff_factor                   144867 non-null  int64  \n",
      " 14  cutoff_timestamp                144867 non-null  object \n",
      " 15  actual_distance_to_destination  144867 non-null  float64\n",
      " 16  actual_time                     144867 non-null  float64\n",
      " 17  osrm_time                       144867 non-null  float64\n",
      " 18  osrm_distance                   144867 non-null  float64\n",
      " 19  factor                          144867 non-null  float64\n",
      " 20  segment_actual_time             144867 non-null  float64\n",
      " 21  segment_osrm_time               144867 non-null  float64\n",
      " 22  segment_osrm_distance           144867 non-null  float64\n",
      " 23  segment_factor                  144867 non-null  float64\n",
      "dtypes: bool(1), float64(10), int64(1), object(12)\n",
      "memory usage: 25.6+ MB\n",
      "None\n"
     ]
    }
   ],
   "source": [
    "# Display basic information about the dataset -\n",
    "print(df.info())"
   ]
  },
  {
   "cell_type": "code",
   "execution_count": 4,
   "id": "fbd27498",
   "metadata": {},
   "outputs": [
    {
     "name": "stdout",
     "output_type": "stream",
     "text": [
      "Number of rows: 144,867 \n",
      "Number of columns: 24\n"
     ]
    }
   ],
   "source": [
    "# Shape of the dataset -\n",
    "print(f\"Number of rows: {df.shape[0]:,} \\nNumber of columns: {df.shape[1]}\")"
   ]
  },
  {
   "cell_type": "code",
   "execution_count": 5,
   "id": "6839f433",
   "metadata": {},
   "outputs": [
    {
     "name": "stdout",
     "output_type": "stream",
     "text": [
      "data : 2\n",
      "trip_creation_time : 14817\n",
      "route_schedule_uuid : 1504\n",
      "route_type : 2\n",
      "trip_uuid : 14817\n",
      "source_center : 1508\n",
      "source_name : 1498\n",
      "destination_center : 1481\n",
      "destination_name : 1468\n",
      "od_start_time : 26369\n",
      "od_end_time : 26369\n",
      "start_scan_to_end_scan : 1915\n",
      "is_cutoff : 2\n",
      "cutoff_factor : 501\n",
      "cutoff_timestamp : 93180\n",
      "actual_distance_to_destination : 144515\n",
      "actual_time : 3182\n",
      "osrm_time : 1531\n",
      "osrm_distance : 138046\n",
      "factor : 45641\n",
      "segment_actual_time : 747\n",
      "segment_osrm_time : 214\n",
      "segment_osrm_distance : 113799\n",
      "segment_factor : 5675\n"
     ]
    }
   ],
   "source": [
    "# Number of unique values in each column -\n",
    "for i in df.columns:\n",
    "    print(i,':',df[i].nunique())"
   ]
  },
  {
   "cell_type": "markdown",
   "id": "4a427dfd",
   "metadata": {},
   "source": [
    "* From above observation, we can conclude that only data and route type are categorical remaining are countinous and date time column"
   ]
  },
  {
   "cell_type": "markdown",
   "id": "b71e682b",
   "metadata": {},
   "source": [
    "### Converting time columns into pandas datetime and object to category."
   ]
  },
  {
   "cell_type": "code",
   "execution_count": 6,
   "id": "a0dc9e0c",
   "metadata": {},
   "outputs": [],
   "source": [
    "# Converting data type of datetime column to object to datetime \n",
    "columns = ['trip_creation_time', 'od_start_time','od_end_time','cutoff_timestamp']\n",
    "for i in columns:\n",
    "    df[i] = pd.to_datetime(df[i])\n",
    "    \n",
    "    \n",
    "#Changing the data type of columns with 'object' data type to 'category', since it can do memory optimization \n",
    "columns = ['data','route_type', 'is_cutoff']\n",
    "for i in columns:\n",
    "    df = df.astype({i : 'category'})"
   ]
  },
  {
   "cell_type": "markdown",
   "id": "7546d8ea",
   "metadata": {},
   "source": [
    "### Missing values and Outlier detection"
   ]
  },
  {
   "cell_type": "code",
   "execution_count": 7,
   "id": "a30d7ff2",
   "metadata": {},
   "outputs": [
    {
     "data": {
      "text/plain": [
       "data                                0\n",
       "trip_creation_time                  0\n",
       "route_schedule_uuid                 0\n",
       "route_type                          0\n",
       "trip_uuid                           0\n",
       "source_center                       0\n",
       "source_name                       293\n",
       "destination_center                  0\n",
       "destination_name                  261\n",
       "od_start_time                       0\n",
       "od_end_time                         0\n",
       "start_scan_to_end_scan              0\n",
       "is_cutoff                           0\n",
       "cutoff_factor                       0\n",
       "cutoff_timestamp                    0\n",
       "actual_distance_to_destination      0\n",
       "actual_time                         0\n",
       "osrm_time                           0\n",
       "osrm_distance                       0\n",
       "factor                              0\n",
       "segment_actual_time                 0\n",
       "segment_osrm_time                   0\n",
       "segment_osrm_distance               0\n",
       "segment_factor                      0\n",
       "dtype: int64"
      ]
     },
     "execution_count": 7,
     "metadata": {},
     "output_type": "execute_result"
    }
   ],
   "source": [
    "df.isnull().sum()"
   ]
  },
  {
   "cell_type": "markdown",
   "id": "62b12c68",
   "metadata": {},
   "source": [
    "* There are null values in source center and destination name we can remove them it doesn't make any difference "
   ]
  },
  {
   "cell_type": "markdown",
   "id": "11501dbf",
   "metadata": {},
   "source": [
    "### Removing null values"
   ]
  },
  {
   "cell_type": "code",
   "execution_count": 8,
   "id": "dacd52bc",
   "metadata": {},
   "outputs": [],
   "source": [
    "df.dropna(how='any',inplace=True)"
   ]
  },
  {
   "cell_type": "code",
   "execution_count": 9,
   "id": "3fa3b7a4",
   "metadata": {},
   "outputs": [
    {
     "data": {
      "text/html": [
       "<div>\n",
       "<style scoped>\n",
       "    .dataframe tbody tr th:only-of-type {\n",
       "        vertical-align: middle;\n",
       "    }\n",
       "\n",
       "    .dataframe tbody tr th {\n",
       "        vertical-align: top;\n",
       "    }\n",
       "\n",
       "    .dataframe thead th {\n",
       "        text-align: right;\n",
       "    }\n",
       "</style>\n",
       "<table border=\"1\" class=\"dataframe\">\n",
       "  <thead>\n",
       "    <tr style=\"text-align: right;\">\n",
       "      <th></th>\n",
       "      <th>start_scan_to_end_scan</th>\n",
       "      <th>cutoff_factor</th>\n",
       "      <th>actual_distance_to_destination</th>\n",
       "      <th>actual_time</th>\n",
       "      <th>osrm_time</th>\n",
       "      <th>osrm_distance</th>\n",
       "      <th>factor</th>\n",
       "      <th>segment_actual_time</th>\n",
       "      <th>segment_osrm_time</th>\n",
       "      <th>segment_osrm_distance</th>\n",
       "      <th>segment_factor</th>\n",
       "    </tr>\n",
       "  </thead>\n",
       "  <tbody>\n",
       "    <tr>\n",
       "      <th>count</th>\n",
       "      <td>144316.00</td>\n",
       "      <td>144316.00</td>\n",
       "      <td>144316.00</td>\n",
       "      <td>144316.00</td>\n",
       "      <td>144316.00</td>\n",
       "      <td>144316.00</td>\n",
       "      <td>144316.00</td>\n",
       "      <td>144316.00</td>\n",
       "      <td>144316.00</td>\n",
       "      <td>144316.00</td>\n",
       "      <td>144316.00</td>\n",
       "    </tr>\n",
       "    <tr>\n",
       "      <th>mean</th>\n",
       "      <td>963.70</td>\n",
       "      <td>233.56</td>\n",
       "      <td>234.71</td>\n",
       "      <td>418.00</td>\n",
       "      <td>214.44</td>\n",
       "      <td>285.55</td>\n",
       "      <td>2.12</td>\n",
       "      <td>36.18</td>\n",
       "      <td>18.50</td>\n",
       "      <td>22.82</td>\n",
       "      <td>2.22</td>\n",
       "    </tr>\n",
       "    <tr>\n",
       "      <th>std</th>\n",
       "      <td>1038.08</td>\n",
       "      <td>345.25</td>\n",
       "      <td>345.48</td>\n",
       "      <td>598.94</td>\n",
       "      <td>308.45</td>\n",
       "      <td>421.72</td>\n",
       "      <td>1.72</td>\n",
       "      <td>53.52</td>\n",
       "      <td>14.77</td>\n",
       "      <td>17.87</td>\n",
       "      <td>4.85</td>\n",
       "    </tr>\n",
       "    <tr>\n",
       "      <th>min</th>\n",
       "      <td>20.00</td>\n",
       "      <td>9.00</td>\n",
       "      <td>9.00</td>\n",
       "      <td>9.00</td>\n",
       "      <td>6.00</td>\n",
       "      <td>9.01</td>\n",
       "      <td>0.14</td>\n",
       "      <td>-244.00</td>\n",
       "      <td>0.00</td>\n",
       "      <td>0.00</td>\n",
       "      <td>-23.44</td>\n",
       "    </tr>\n",
       "    <tr>\n",
       "      <th>25%</th>\n",
       "      <td>161.00</td>\n",
       "      <td>22.00</td>\n",
       "      <td>23.35</td>\n",
       "      <td>51.00</td>\n",
       "      <td>27.00</td>\n",
       "      <td>29.90</td>\n",
       "      <td>1.60</td>\n",
       "      <td>20.00</td>\n",
       "      <td>11.00</td>\n",
       "      <td>12.05</td>\n",
       "      <td>1.35</td>\n",
       "    </tr>\n",
       "    <tr>\n",
       "      <th>50%</th>\n",
       "      <td>451.00</td>\n",
       "      <td>66.00</td>\n",
       "      <td>66.14</td>\n",
       "      <td>132.00</td>\n",
       "      <td>64.00</td>\n",
       "      <td>78.62</td>\n",
       "      <td>1.86</td>\n",
       "      <td>28.00</td>\n",
       "      <td>17.00</td>\n",
       "      <td>23.51</td>\n",
       "      <td>1.68</td>\n",
       "    </tr>\n",
       "    <tr>\n",
       "      <th>75%</th>\n",
       "      <td>1645.00</td>\n",
       "      <td>286.00</td>\n",
       "      <td>286.92</td>\n",
       "      <td>516.00</td>\n",
       "      <td>259.00</td>\n",
       "      <td>346.31</td>\n",
       "      <td>2.21</td>\n",
       "      <td>40.00</td>\n",
       "      <td>22.00</td>\n",
       "      <td>27.81</td>\n",
       "      <td>2.25</td>\n",
       "    </tr>\n",
       "    <tr>\n",
       "      <th>max</th>\n",
       "      <td>7898.00</td>\n",
       "      <td>1927.00</td>\n",
       "      <td>1927.45</td>\n",
       "      <td>4532.00</td>\n",
       "      <td>1686.00</td>\n",
       "      <td>2326.20</td>\n",
       "      <td>77.39</td>\n",
       "      <td>3051.00</td>\n",
       "      <td>1611.00</td>\n",
       "      <td>2191.40</td>\n",
       "      <td>574.25</td>\n",
       "    </tr>\n",
       "  </tbody>\n",
       "</table>\n",
       "</div>"
      ],
      "text/plain": [
       "       start_scan_to_end_scan  cutoff_factor  actual_distance_to_destination  \\\n",
       "count               144316.00      144316.00                       144316.00   \n",
       "mean                   963.70         233.56                          234.71   \n",
       "std                   1038.08         345.25                          345.48   \n",
       "min                     20.00           9.00                            9.00   \n",
       "25%                    161.00          22.00                           23.35   \n",
       "50%                    451.00          66.00                           66.14   \n",
       "75%                   1645.00         286.00                          286.92   \n",
       "max                   7898.00        1927.00                         1927.45   \n",
       "\n",
       "       actual_time  osrm_time  osrm_distance     factor  segment_actual_time  \\\n",
       "count    144316.00  144316.00      144316.00  144316.00            144316.00   \n",
       "mean        418.00     214.44         285.55       2.12                36.18   \n",
       "std         598.94     308.45         421.72       1.72                53.52   \n",
       "min           9.00       6.00           9.01       0.14              -244.00   \n",
       "25%          51.00      27.00          29.90       1.60                20.00   \n",
       "50%         132.00      64.00          78.62       1.86                28.00   \n",
       "75%         516.00     259.00         346.31       2.21                40.00   \n",
       "max        4532.00    1686.00        2326.20      77.39              3051.00   \n",
       "\n",
       "       segment_osrm_time  segment_osrm_distance  segment_factor  \n",
       "count          144316.00              144316.00       144316.00  \n",
       "mean               18.50                  22.82            2.22  \n",
       "std                14.77                  17.87            4.85  \n",
       "min                 0.00                   0.00          -23.44  \n",
       "25%                11.00                  12.05            1.35  \n",
       "50%                17.00                  23.51            1.68  \n",
       "75%                22.00                  27.81            2.25  \n",
       "max              1611.00                2191.40          574.25  "
      ]
     },
     "execution_count": 9,
     "metadata": {},
     "output_type": "execute_result"
    }
   ],
   "source": [
    "df.describe().round(2)"
   ]
  },
  {
   "cell_type": "markdown",
   "id": "26402f87",
   "metadata": {},
   "source": [
    "**Insights:**\n",
    "\n",
    "**Travel Time and Distance:**\n",
    "- The average actual_time is approximately 418 seconds (about 7 minutes), with a wide range (standard deviation of 599 seconds).\n",
    "- The average actual_distance_to_destination is around 235 kms, with a standard deviation of 345 kms.\n",
    "- The average osrm_time is about 214 seconds, and the average osrm_distance is approximately 286 km.\n",
    "\n",
    "**Factors and Ratios:**\n",
    "- The average factor is approximately 2.12, suggesting that, on average, the actual_time is more than twice the osrm_time.\n",
    "- The average segment_factor is around 2.22, suggesting that, on average, the segment's actual time is more than twice the segment OSRM time.\n",
    "- The cutoff_factor has an average of 233.56, indicating a cutoff time that is, on average, 233.56 times longer than the start-to-end scan time.\n",
    "\n",
    "**Minimum and Maximum Values:**\n",
    "\n",
    "- The minimum values for start_scan_to_end_scan, actual_distance_to_destination, and osrm_distance are relatively small, suggesting that some trips have very short distances or times.\n",
    "- The maximum values for start_scan_to_end_scan, actual_distance_to_destination, osrm_time, and osrm_distance are much larger, indicating that some trips have very long durations or cover significant distances."
   ]
  },
  {
   "cell_type": "markdown",
   "id": "59c3953c",
   "metadata": {},
   "source": [
    "### Since delivery details of one package is divided into several rows we will try merge some columns "
   ]
  },
  {
   "cell_type": "code",
   "execution_count": 10,
   "id": "e204015e",
   "metadata": {},
   "outputs": [
    {
     "data": {
      "text/html": [
       "<div>\n",
       "<style scoped>\n",
       "    .dataframe tbody tr th:only-of-type {\n",
       "        vertical-align: middle;\n",
       "    }\n",
       "\n",
       "    .dataframe tbody tr th {\n",
       "        vertical-align: top;\n",
       "    }\n",
       "\n",
       "    .dataframe thead th {\n",
       "        text-align: right;\n",
       "    }\n",
       "</style>\n",
       "<table border=\"1\" class=\"dataframe\">\n",
       "  <thead>\n",
       "    <tr style=\"text-align: right;\">\n",
       "      <th></th>\n",
       "      <th>segment_actual_time_sum</th>\n",
       "      <th>segment_osrm_distance_sum</th>\n",
       "      <th>segment_osrm_time_sum</th>\n",
       "    </tr>\n",
       "  </thead>\n",
       "  <tbody>\n",
       "    <tr>\n",
       "      <th>0</th>\n",
       "      <td>14.0</td>\n",
       "      <td>11.9653</td>\n",
       "      <td>11.0</td>\n",
       "    </tr>\n",
       "    <tr>\n",
       "      <th>1</th>\n",
       "      <td>24.0</td>\n",
       "      <td>21.7243</td>\n",
       "      <td>20.0</td>\n",
       "    </tr>\n",
       "    <tr>\n",
       "      <th>2</th>\n",
       "      <td>40.0</td>\n",
       "      <td>32.5395</td>\n",
       "      <td>27.0</td>\n",
       "    </tr>\n",
       "    <tr>\n",
       "      <th>3</th>\n",
       "      <td>61.0</td>\n",
       "      <td>45.5619</td>\n",
       "      <td>39.0</td>\n",
       "    </tr>\n",
       "    <tr>\n",
       "      <th>4</th>\n",
       "      <td>67.0</td>\n",
       "      <td>49.4772</td>\n",
       "      <td>44.0</td>\n",
       "    </tr>\n",
       "    <tr>\n",
       "      <th>...</th>\n",
       "      <td>...</td>\n",
       "      <td>...</td>\n",
       "      <td>...</td>\n",
       "    </tr>\n",
       "    <tr>\n",
       "      <th>144862</th>\n",
       "      <td>92.0</td>\n",
       "      <td>65.3487</td>\n",
       "      <td>94.0</td>\n",
       "    </tr>\n",
       "    <tr>\n",
       "      <th>144863</th>\n",
       "      <td>118.0</td>\n",
       "      <td>82.7212</td>\n",
       "      <td>115.0</td>\n",
       "    </tr>\n",
       "    <tr>\n",
       "      <th>144864</th>\n",
       "      <td>138.0</td>\n",
       "      <td>103.4265</td>\n",
       "      <td>149.0</td>\n",
       "    </tr>\n",
       "    <tr>\n",
       "      <th>144865</th>\n",
       "      <td>155.0</td>\n",
       "      <td>122.3150</td>\n",
       "      <td>176.0</td>\n",
       "    </tr>\n",
       "    <tr>\n",
       "      <th>144866</th>\n",
       "      <td>423.0</td>\n",
       "      <td>131.1238</td>\n",
       "      <td>185.0</td>\n",
       "    </tr>\n",
       "  </tbody>\n",
       "</table>\n",
       "<p>144316 rows × 3 columns</p>\n",
       "</div>"
      ],
      "text/plain": [
       "        segment_actual_time_sum  segment_osrm_distance_sum  \\\n",
       "0                          14.0                    11.9653   \n",
       "1                          24.0                    21.7243   \n",
       "2                          40.0                    32.5395   \n",
       "3                          61.0                    45.5619   \n",
       "4                          67.0                    49.4772   \n",
       "...                         ...                        ...   \n",
       "144862                     92.0                    65.3487   \n",
       "144863                    118.0                    82.7212   \n",
       "144864                    138.0                   103.4265   \n",
       "144865                    155.0                   122.3150   \n",
       "144866                    423.0                   131.1238   \n",
       "\n",
       "        segment_osrm_time_sum  \n",
       "0                        11.0  \n",
       "1                        20.0  \n",
       "2                        27.0  \n",
       "3                        39.0  \n",
       "4                        44.0  \n",
       "...                       ...  \n",
       "144862                   94.0  \n",
       "144863                  115.0  \n",
       "144864                  149.0  \n",
       "144865                  176.0  \n",
       "144866                  185.0  \n",
       "\n",
       "[144316 rows x 3 columns]"
      ]
     },
     "execution_count": 10,
     "metadata": {},
     "output_type": "execute_result"
    }
   ],
   "source": [
    "df['segment_key'] = df['trip_uuid'] + df['source_center'] + df['destination_center']\n",
    "\n",
    "segment_col = ['segment_actual_time','segment_osrm_distance','segment_osrm_time']\n",
    "for i in segment_col:\n",
    "    df[i+'_sum'] = df.groupby(['segment_key'])[i].cumsum()\n",
    "df[[i+'_sum' for i in segment_col]]"
   ]
  },
  {
   "cell_type": "code",
   "execution_count": 11,
   "id": "2894cf87",
   "metadata": {},
   "outputs": [
    {
     "name": "stdout",
     "output_type": "stream",
     "text": [
      "<class 'pandas.core.frame.DataFrame'>\n",
      "Int64Index: 144316 entries, 0 to 144866\n",
      "Data columns (total 28 columns):\n",
      " #   Column                          Non-Null Count   Dtype         \n",
      "---  ------                          --------------   -----         \n",
      " 0   data                            144316 non-null  category      \n",
      " 1   trip_creation_time              144316 non-null  datetime64[ns]\n",
      " 2   route_schedule_uuid             144316 non-null  object        \n",
      " 3   route_type                      144316 non-null  category      \n",
      " 4   trip_uuid                       144316 non-null  object        \n",
      " 5   source_center                   144316 non-null  object        \n",
      " 6   source_name                     144316 non-null  object        \n",
      " 7   destination_center              144316 non-null  object        \n",
      " 8   destination_name                144316 non-null  object        \n",
      " 9   od_start_time                   144316 non-null  datetime64[ns]\n",
      " 10  od_end_time                     144316 non-null  datetime64[ns]\n",
      " 11  start_scan_to_end_scan          144316 non-null  float64       \n",
      " 12  is_cutoff                       144316 non-null  category      \n",
      " 13  cutoff_factor                   144316 non-null  int64         \n",
      " 14  cutoff_timestamp                144316 non-null  datetime64[ns]\n",
      " 15  actual_distance_to_destination  144316 non-null  float64       \n",
      " 16  actual_time                     144316 non-null  float64       \n",
      " 17  osrm_time                       144316 non-null  float64       \n",
      " 18  osrm_distance                   144316 non-null  float64       \n",
      " 19  factor                          144316 non-null  float64       \n",
      " 20  segment_actual_time             144316 non-null  float64       \n",
      " 21  segment_osrm_time               144316 non-null  float64       \n",
      " 22  segment_osrm_distance           144316 non-null  float64       \n",
      " 23  segment_factor                  144316 non-null  float64       \n",
      " 24  segment_key                     144316 non-null  object        \n",
      " 25  segment_actual_time_sum         144316 non-null  float64       \n",
      " 26  segment_osrm_distance_sum       144316 non-null  float64       \n",
      " 27  segment_osrm_time_sum           144316 non-null  float64       \n",
      "dtypes: category(3), datetime64[ns](4), float64(13), int64(1), object(7)\n",
      "memory usage: 29.0+ MB\n",
      "None\n"
     ]
    }
   ],
   "source": [
    "# Display basic information about the dataset -\n",
    "print(df.info())"
   ]
  },
  {
   "cell_type": "markdown",
   "id": "21e13dbd",
   "metadata": {},
   "source": [
    "### Grouping by segment\n"
   ]
  },
  {
   "cell_type": "code",
   "execution_count": 12,
   "id": "95655224",
   "metadata": {},
   "outputs": [
    {
     "data": {
      "text/html": [
       "<div>\n",
       "<style scoped>\n",
       "    .dataframe tbody tr th:only-of-type {\n",
       "        vertical-align: middle;\n",
       "    }\n",
       "\n",
       "    .dataframe tbody tr th {\n",
       "        vertical-align: top;\n",
       "    }\n",
       "\n",
       "    .dataframe thead th {\n",
       "        text-align: right;\n",
       "    }\n",
       "</style>\n",
       "<table border=\"1\" class=\"dataframe\">\n",
       "  <thead>\n",
       "    <tr style=\"text-align: right;\">\n",
       "      <th></th>\n",
       "      <th>segment_key</th>\n",
       "      <th>data</th>\n",
       "      <th>trip_creation_time</th>\n",
       "      <th>route_schedule_uuid</th>\n",
       "      <th>route_type</th>\n",
       "      <th>trip_uuid</th>\n",
       "      <th>source_center</th>\n",
       "      <th>source_name</th>\n",
       "      <th>destination_center</th>\n",
       "      <th>destination_name</th>\n",
       "      <th>od_start_time</th>\n",
       "      <th>od_end_time</th>\n",
       "      <th>start_scan_to_end_scan</th>\n",
       "      <th>actual_distance_to_destination</th>\n",
       "      <th>actual_time</th>\n",
       "      <th>osrm_time</th>\n",
       "      <th>osrm_distance</th>\n",
       "      <th>segment_actual_time_sum</th>\n",
       "      <th>segment_osrm_distance_sum</th>\n",
       "      <th>segment_osrm_time_sum</th>\n",
       "    </tr>\n",
       "  </thead>\n",
       "  <tbody>\n",
       "    <tr>\n",
       "      <th>0</th>\n",
       "      <td>trip-153671041653548748IND209304AAAIND000000ACB</td>\n",
       "      <td>training</td>\n",
       "      <td>2018-09-12 00:00:16.535741</td>\n",
       "      <td>thanos::sroute:d7c989ba-a29b-4a0b-b2f4-288cdc6...</td>\n",
       "      <td>FTL</td>\n",
       "      <td>trip-153671041653548748</td>\n",
       "      <td>IND209304AAA</td>\n",
       "      <td>Kanpur_Central_H_6 (Uttar Pradesh)</td>\n",
       "      <td>IND000000ACB</td>\n",
       "      <td>Gurgaon_Bilaspur_HB (Haryana)</td>\n",
       "      <td>2018-09-12 16:39:46.858469</td>\n",
       "      <td>2018-09-13 13:40:23.123744</td>\n",
       "      <td>1260.0</td>\n",
       "      <td>383.759164</td>\n",
       "      <td>732.0</td>\n",
       "      <td>329.0</td>\n",
       "      <td>446.5496</td>\n",
       "      <td>728.0</td>\n",
       "      <td>670.6205</td>\n",
       "      <td>534.0</td>\n",
       "    </tr>\n",
       "    <tr>\n",
       "      <th>1</th>\n",
       "      <td>trip-153671041653548748IND462022AAAIND209304AAA</td>\n",
       "      <td>training</td>\n",
       "      <td>2018-09-12 00:00:16.535741</td>\n",
       "      <td>thanos::sroute:d7c989ba-a29b-4a0b-b2f4-288cdc6...</td>\n",
       "      <td>FTL</td>\n",
       "      <td>trip-153671041653548748</td>\n",
       "      <td>IND462022AAA</td>\n",
       "      <td>Bhopal_Trnsport_H (Madhya Pradesh)</td>\n",
       "      <td>IND209304AAA</td>\n",
       "      <td>Kanpur_Central_H_6 (Uttar Pradesh)</td>\n",
       "      <td>2018-09-12 00:00:16.535741</td>\n",
       "      <td>2018-09-12 16:39:46.858469</td>\n",
       "      <td>999.0</td>\n",
       "      <td>440.973689</td>\n",
       "      <td>830.0</td>\n",
       "      <td>388.0</td>\n",
       "      <td>544.8027</td>\n",
       "      <td>820.0</td>\n",
       "      <td>649.8528</td>\n",
       "      <td>474.0</td>\n",
       "    </tr>\n",
       "    <tr>\n",
       "      <th>2</th>\n",
       "      <td>trip-153671042288605164IND561203AABIND562101AAA</td>\n",
       "      <td>training</td>\n",
       "      <td>2018-09-12 00:00:22.886430</td>\n",
       "      <td>thanos::sroute:3a1b0ab2-bb0b-4c53-8c59-eb2a2c0...</td>\n",
       "      <td>Carting</td>\n",
       "      <td>trip-153671042288605164</td>\n",
       "      <td>IND561203AAB</td>\n",
       "      <td>Doddablpur_ChikaDPP_D (Karnataka)</td>\n",
       "      <td>IND562101AAA</td>\n",
       "      <td>Chikblapur_ShntiSgr_D (Karnataka)</td>\n",
       "      <td>2018-09-12 02:03:09.655591</td>\n",
       "      <td>2018-09-12 03:01:59.598855</td>\n",
       "      <td>58.0</td>\n",
       "      <td>24.644021</td>\n",
       "      <td>47.0</td>\n",
       "      <td>26.0</td>\n",
       "      <td>28.1994</td>\n",
       "      <td>46.0</td>\n",
       "      <td>28.1995</td>\n",
       "      <td>26.0</td>\n",
       "    </tr>\n",
       "    <tr>\n",
       "      <th>3</th>\n",
       "      <td>trip-153671042288605164IND572101AAAIND561203AAB</td>\n",
       "      <td>training</td>\n",
       "      <td>2018-09-12 00:00:22.886430</td>\n",
       "      <td>thanos::sroute:3a1b0ab2-bb0b-4c53-8c59-eb2a2c0...</td>\n",
       "      <td>Carting</td>\n",
       "      <td>trip-153671042288605164</td>\n",
       "      <td>IND572101AAA</td>\n",
       "      <td>Tumkur_Veersagr_I (Karnataka)</td>\n",
       "      <td>IND561203AAB</td>\n",
       "      <td>Doddablpur_ChikaDPP_D (Karnataka)</td>\n",
       "      <td>2018-09-12 00:00:22.886430</td>\n",
       "      <td>2018-09-12 02:03:09.655591</td>\n",
       "      <td>122.0</td>\n",
       "      <td>48.542890</td>\n",
       "      <td>96.0</td>\n",
       "      <td>42.0</td>\n",
       "      <td>56.9116</td>\n",
       "      <td>95.0</td>\n",
       "      <td>55.9899</td>\n",
       "      <td>39.0</td>\n",
       "    </tr>\n",
       "    <tr>\n",
       "      <th>4</th>\n",
       "      <td>trip-153671043369099517IND000000ACBIND160002AAC</td>\n",
       "      <td>training</td>\n",
       "      <td>2018-09-12 00:00:33.691250</td>\n",
       "      <td>thanos::sroute:de5e208e-7641-45e6-8100-4d9fb1e...</td>\n",
       "      <td>FTL</td>\n",
       "      <td>trip-153671043369099517</td>\n",
       "      <td>IND000000ACB</td>\n",
       "      <td>Gurgaon_Bilaspur_HB (Haryana)</td>\n",
       "      <td>IND160002AAC</td>\n",
       "      <td>Chandigarh_Mehmdpur_H (Punjab)</td>\n",
       "      <td>2018-09-14 03:40:17.106733</td>\n",
       "      <td>2018-09-14 17:34:55.442454</td>\n",
       "      <td>834.0</td>\n",
       "      <td>237.439610</td>\n",
       "      <td>611.0</td>\n",
       "      <td>212.0</td>\n",
       "      <td>281.2109</td>\n",
       "      <td>608.0</td>\n",
       "      <td>317.7408</td>\n",
       "      <td>231.0</td>\n",
       "    </tr>\n",
       "  </tbody>\n",
       "</table>\n",
       "</div>"
      ],
      "text/plain": [
       "                                       segment_key      data  \\\n",
       "0  trip-153671041653548748IND209304AAAIND000000ACB  training   \n",
       "1  trip-153671041653548748IND462022AAAIND209304AAA  training   \n",
       "2  trip-153671042288605164IND561203AABIND562101AAA  training   \n",
       "3  trip-153671042288605164IND572101AAAIND561203AAB  training   \n",
       "4  trip-153671043369099517IND000000ACBIND160002AAC  training   \n",
       "\n",
       "          trip_creation_time  \\\n",
       "0 2018-09-12 00:00:16.535741   \n",
       "1 2018-09-12 00:00:16.535741   \n",
       "2 2018-09-12 00:00:22.886430   \n",
       "3 2018-09-12 00:00:22.886430   \n",
       "4 2018-09-12 00:00:33.691250   \n",
       "\n",
       "                                 route_schedule_uuid route_type  \\\n",
       "0  thanos::sroute:d7c989ba-a29b-4a0b-b2f4-288cdc6...        FTL   \n",
       "1  thanos::sroute:d7c989ba-a29b-4a0b-b2f4-288cdc6...        FTL   \n",
       "2  thanos::sroute:3a1b0ab2-bb0b-4c53-8c59-eb2a2c0...    Carting   \n",
       "3  thanos::sroute:3a1b0ab2-bb0b-4c53-8c59-eb2a2c0...    Carting   \n",
       "4  thanos::sroute:de5e208e-7641-45e6-8100-4d9fb1e...        FTL   \n",
       "\n",
       "                 trip_uuid source_center                         source_name  \\\n",
       "0  trip-153671041653548748  IND209304AAA  Kanpur_Central_H_6 (Uttar Pradesh)   \n",
       "1  trip-153671041653548748  IND462022AAA  Bhopal_Trnsport_H (Madhya Pradesh)   \n",
       "2  trip-153671042288605164  IND561203AAB   Doddablpur_ChikaDPP_D (Karnataka)   \n",
       "3  trip-153671042288605164  IND572101AAA       Tumkur_Veersagr_I (Karnataka)   \n",
       "4  trip-153671043369099517  IND000000ACB       Gurgaon_Bilaspur_HB (Haryana)   \n",
       "\n",
       "  destination_center                    destination_name  \\\n",
       "0       IND000000ACB       Gurgaon_Bilaspur_HB (Haryana)   \n",
       "1       IND209304AAA  Kanpur_Central_H_6 (Uttar Pradesh)   \n",
       "2       IND562101AAA   Chikblapur_ShntiSgr_D (Karnataka)   \n",
       "3       IND561203AAB   Doddablpur_ChikaDPP_D (Karnataka)   \n",
       "4       IND160002AAC      Chandigarh_Mehmdpur_H (Punjab)   \n",
       "\n",
       "               od_start_time                od_end_time  \\\n",
       "0 2018-09-12 16:39:46.858469 2018-09-13 13:40:23.123744   \n",
       "1 2018-09-12 00:00:16.535741 2018-09-12 16:39:46.858469   \n",
       "2 2018-09-12 02:03:09.655591 2018-09-12 03:01:59.598855   \n",
       "3 2018-09-12 00:00:22.886430 2018-09-12 02:03:09.655591   \n",
       "4 2018-09-14 03:40:17.106733 2018-09-14 17:34:55.442454   \n",
       "\n",
       "   start_scan_to_end_scan  actual_distance_to_destination  actual_time  \\\n",
       "0                  1260.0                      383.759164        732.0   \n",
       "1                   999.0                      440.973689        830.0   \n",
       "2                    58.0                       24.644021         47.0   \n",
       "3                   122.0                       48.542890         96.0   \n",
       "4                   834.0                      237.439610        611.0   \n",
       "\n",
       "   osrm_time  osrm_distance  segment_actual_time_sum  \\\n",
       "0      329.0       446.5496                    728.0   \n",
       "1      388.0       544.8027                    820.0   \n",
       "2       26.0        28.1994                     46.0   \n",
       "3       42.0        56.9116                     95.0   \n",
       "4      212.0       281.2109                    608.0   \n",
       "\n",
       "   segment_osrm_distance_sum  segment_osrm_time_sum  \n",
       "0                   670.6205                  534.0  \n",
       "1                   649.8528                  474.0  \n",
       "2                    28.1995                   26.0  \n",
       "3                    55.9899                   39.0  \n",
       "4                   317.7408                  231.0  "
      ]
     },
     "execution_count": 12,
     "metadata": {},
     "output_type": "execute_result"
    }
   ],
   "source": [
    "# The grouping is performed for easier analysis and comparison of relevant data within each segment -\n",
    "\n",
    "create_segment_dict = {\n",
    "\n",
    "    'data' : 'first',\n",
    "    'trip_creation_time': 'first',\n",
    "    'route_schedule_uuid' : 'first',\n",
    "    'route_type' : 'first',\n",
    "    'trip_uuid' : 'first',\n",
    "    'source_center' : 'first',\n",
    "    'source_name' : 'first',\n",
    "\n",
    "    'destination_center' : 'last',\n",
    "    'destination_name' : 'last',\n",
    "\n",
    "    'od_start_time' : 'first',\n",
    "    'od_end_time' : 'first',\n",
    "    'start_scan_to_end_scan' : 'first',\n",
    "\n",
    "\n",
    "    'actual_distance_to_destination' : 'last',\n",
    "    'actual_time' : 'last',\n",
    "\n",
    "    'osrm_time' : 'last',\n",
    "    'osrm_distance' : 'last',\n",
    "\n",
    "    'segment_actual_time_sum' : 'last',\n",
    "    'segment_osrm_distance_sum' : 'last',\n",
    "    'segment_osrm_time_sum' : 'last',\n",
    "\n",
    "    }\n",
    "segment = df.groupby('segment_key').agg(create_segment_dict).reset_index()\n",
    "segment = segment.sort_values(by=['segment_key','od_end_time'], ascending=True).reset_index(drop=True)\n",
    "segment.head()"
   ]
  },
  {
   "cell_type": "code",
   "execution_count": 13,
   "id": "5649e63c",
   "metadata": {},
   "outputs": [
    {
     "data": {
      "text/html": [
       "<div>\n",
       "<style scoped>\n",
       "    .dataframe tbody tr th:only-of-type {\n",
       "        vertical-align: middle;\n",
       "    }\n",
       "\n",
       "    .dataframe tbody tr th {\n",
       "        vertical-align: top;\n",
       "    }\n",
       "\n",
       "    .dataframe thead th {\n",
       "        text-align: right;\n",
       "    }\n",
       "</style>\n",
       "<table border=\"1\" class=\"dataframe\">\n",
       "  <thead>\n",
       "    <tr style=\"text-align: right;\">\n",
       "      <th></th>\n",
       "      <th>segment_key</th>\n",
       "      <th>data</th>\n",
       "      <th>trip_creation_time</th>\n",
       "      <th>route_schedule_uuid</th>\n",
       "      <th>route_type</th>\n",
       "      <th>trip_uuid</th>\n",
       "      <th>source_center</th>\n",
       "      <th>source_name</th>\n",
       "      <th>destination_center</th>\n",
       "      <th>destination_name</th>\n",
       "      <th>od_start_time</th>\n",
       "      <th>od_end_time</th>\n",
       "      <th>start_scan_to_end_scan</th>\n",
       "      <th>actual_distance_to_destination</th>\n",
       "      <th>actual_time</th>\n",
       "      <th>osrm_time</th>\n",
       "      <th>osrm_distance</th>\n",
       "      <th>segment_actual_time_sum</th>\n",
       "      <th>segment_osrm_distance_sum</th>\n",
       "      <th>segment_osrm_time_sum</th>\n",
       "    </tr>\n",
       "  </thead>\n",
       "  <tbody>\n",
       "    <tr>\n",
       "      <th>0</th>\n",
       "      <td>trip-153671041653548748IND209304AAAIND000000ACB</td>\n",
       "      <td>training</td>\n",
       "      <td>2018-09-12 00:00:16.535741</td>\n",
       "      <td>thanos::sroute:d7c989ba-a29b-4a0b-b2f4-288cdc6...</td>\n",
       "      <td>FTL</td>\n",
       "      <td>trip-153671041653548748</td>\n",
       "      <td>IND209304AAA</td>\n",
       "      <td>Kanpur_Central_H_6 (Uttar Pradesh)</td>\n",
       "      <td>IND000000ACB</td>\n",
       "      <td>Gurgaon_Bilaspur_HB (Haryana)</td>\n",
       "      <td>2018-09-12 16:39:46.858469</td>\n",
       "      <td>2018-09-13 13:40:23.123744</td>\n",
       "      <td>1260.0</td>\n",
       "      <td>383.759164</td>\n",
       "      <td>732.0</td>\n",
       "      <td>329.0</td>\n",
       "      <td>446.5496</td>\n",
       "      <td>728.0</td>\n",
       "      <td>670.6205</td>\n",
       "      <td>534.0</td>\n",
       "    </tr>\n",
       "    <tr>\n",
       "      <th>1</th>\n",
       "      <td>trip-153671041653548748IND462022AAAIND209304AAA</td>\n",
       "      <td>training</td>\n",
       "      <td>2018-09-12 00:00:16.535741</td>\n",
       "      <td>thanos::sroute:d7c989ba-a29b-4a0b-b2f4-288cdc6...</td>\n",
       "      <td>FTL</td>\n",
       "      <td>trip-153671041653548748</td>\n",
       "      <td>IND462022AAA</td>\n",
       "      <td>Bhopal_Trnsport_H (Madhya Pradesh)</td>\n",
       "      <td>IND209304AAA</td>\n",
       "      <td>Kanpur_Central_H_6 (Uttar Pradesh)</td>\n",
       "      <td>2018-09-12 00:00:16.535741</td>\n",
       "      <td>2018-09-12 16:39:46.858469</td>\n",
       "      <td>999.0</td>\n",
       "      <td>440.973689</td>\n",
       "      <td>830.0</td>\n",
       "      <td>388.0</td>\n",
       "      <td>544.8027</td>\n",
       "      <td>820.0</td>\n",
       "      <td>649.8528</td>\n",
       "      <td>474.0</td>\n",
       "    </tr>\n",
       "  </tbody>\n",
       "</table>\n",
       "</div>"
      ],
      "text/plain": [
       "                                       segment_key      data  \\\n",
       "0  trip-153671041653548748IND209304AAAIND000000ACB  training   \n",
       "1  trip-153671041653548748IND462022AAAIND209304AAA  training   \n",
       "\n",
       "          trip_creation_time  \\\n",
       "0 2018-09-12 00:00:16.535741   \n",
       "1 2018-09-12 00:00:16.535741   \n",
       "\n",
       "                                 route_schedule_uuid route_type  \\\n",
       "0  thanos::sroute:d7c989ba-a29b-4a0b-b2f4-288cdc6...        FTL   \n",
       "1  thanos::sroute:d7c989ba-a29b-4a0b-b2f4-288cdc6...        FTL   \n",
       "\n",
       "                 trip_uuid source_center                         source_name  \\\n",
       "0  trip-153671041653548748  IND209304AAA  Kanpur_Central_H_6 (Uttar Pradesh)   \n",
       "1  trip-153671041653548748  IND462022AAA  Bhopal_Trnsport_H (Madhya Pradesh)   \n",
       "\n",
       "  destination_center                    destination_name  \\\n",
       "0       IND000000ACB       Gurgaon_Bilaspur_HB (Haryana)   \n",
       "1       IND209304AAA  Kanpur_Central_H_6 (Uttar Pradesh)   \n",
       "\n",
       "               od_start_time                od_end_time  \\\n",
       "0 2018-09-12 16:39:46.858469 2018-09-13 13:40:23.123744   \n",
       "1 2018-09-12 00:00:16.535741 2018-09-12 16:39:46.858469   \n",
       "\n",
       "   start_scan_to_end_scan  actual_distance_to_destination  actual_time  \\\n",
       "0                  1260.0                      383.759164        732.0   \n",
       "1                   999.0                      440.973689        830.0   \n",
       "\n",
       "   osrm_time  osrm_distance  segment_actual_time_sum  \\\n",
       "0      329.0       446.5496                    728.0   \n",
       "1      388.0       544.8027                    820.0   \n",
       "\n",
       "   segment_osrm_distance_sum  segment_osrm_time_sum  \n",
       "0                   670.6205                  534.0  \n",
       "1                   649.8528                  474.0  "
      ]
     },
     "execution_count": 13,
     "metadata": {},
     "output_type": "execute_result"
    }
   ],
   "source": [
    "# Here all the rows are at trip_uuid we have grouped all the rows to trip_uuid level -\n",
    "segment[segment['trip_uuid']=='trip-153671041653548748']"
   ]
  },
  {
   "cell_type": "code",
   "execution_count": 14,
   "id": "59e6bb25",
   "metadata": {},
   "outputs": [
    {
     "name": "stdout",
     "output_type": "stream",
     "text": [
      "<class 'pandas.core.frame.DataFrame'>\n",
      "RangeIndex: 26222 entries, 0 to 26221\n",
      "Data columns (total 20 columns):\n",
      " #   Column                          Non-Null Count  Dtype         \n",
      "---  ------                          --------------  -----         \n",
      " 0   segment_key                     26222 non-null  object        \n",
      " 1   data                            26222 non-null  category      \n",
      " 2   trip_creation_time              26222 non-null  datetime64[ns]\n",
      " 3   route_schedule_uuid             26222 non-null  object        \n",
      " 4   route_type                      26222 non-null  category      \n",
      " 5   trip_uuid                       26222 non-null  object        \n",
      " 6   source_center                   26222 non-null  object        \n",
      " 7   source_name                     26222 non-null  object        \n",
      " 8   destination_center              26222 non-null  object        \n",
      " 9   destination_name                26222 non-null  object        \n",
      " 10  od_start_time                   26222 non-null  datetime64[ns]\n",
      " 11  od_end_time                     26222 non-null  datetime64[ns]\n",
      " 12  start_scan_to_end_scan          26222 non-null  float64       \n",
      " 13  actual_distance_to_destination  26222 non-null  float64       \n",
      " 14  actual_time                     26222 non-null  float64       \n",
      " 15  osrm_time                       26222 non-null  float64       \n",
      " 16  osrm_distance                   26222 non-null  float64       \n",
      " 17  segment_actual_time_sum         26222 non-null  float64       \n",
      " 18  segment_osrm_distance_sum       26222 non-null  float64       \n",
      " 19  segment_osrm_time_sum           26222 non-null  float64       \n",
      "dtypes: category(2), datetime64[ns](3), float64(8), object(7)\n",
      "memory usage: 3.7+ MB\n"
     ]
    }
   ],
   "source": [
    "# Display basic information about the segment -\n",
    "segment.info()"
   ]
  },
  {
   "cell_type": "markdown",
   "id": "aaef4488",
   "metadata": {},
   "source": [
    "### Calculate time taken between od_start_time and od_end_time"
   ]
  },
  {
   "cell_type": "code",
   "execution_count": 15,
   "id": "5bd21e95",
   "metadata": {},
   "outputs": [
    {
     "data": {
      "text/plain": [
       "count    26222.000000\n",
       "mean         4.984203\n",
       "std          7.351938\n",
       "min          0.345000\n",
       "25%          1.516000\n",
       "50%          2.539000\n",
       "75%          5.121500\n",
       "max        131.643000\n",
       "Name: od_time_diff_hour, dtype: float64"
      ]
     },
     "execution_count": 15,
     "metadata": {},
     "output_type": "execute_result"
    }
   ],
   "source": [
    "segment['od_time_diff_hour'] = ((segment['od_end_time'] - segment['od_start_time']).dt.total_seconds()/3600).round(3)\n",
    "segment['od_time_diff_hour'].describe()"
   ]
  },
  {
   "cell_type": "markdown",
   "id": "1eb1e57f",
   "metadata": {},
   "source": [
    "#### The 'od_time_diff_hour' column in the 'segment' DataFrame represents the time difference between the start and end of a trip in hours. Here are some insights based on the descriptive statistics:\n",
    "\n",
    "* **Count:** There are 26,222 non-null entries in the 'od_time_diff_hour' column, indicating that there are no missing values.\n",
    "\n",
    "* **Mean:** The average time difference between the start and end of trips is approximately 4.98 hours. This gives a general idea of the typical duration of trips.\n",
    "\n",
    "* **Minimum:** The minimum time difference is 0.345 hours, suggesting that there are very short trips in the dataset.\n",
    "\n",
    "* **Median (50th Percentile):** The median time difference is 2.539 hours, representing the middle value in the dataset. This indicates that half of the trips have a duration of 2.539 hours or less.\n",
    "\n",
    "* **Maximum:** The maximum time difference is 131.643 hours, indicating that there are some trips with exceptionally long durations.\n",
    "\n",
    "**Insight:**\n",
    "* The descriptive statistics suggest that the majority of trips have relatively short durations, with a median of 2.539 hours. However, there is considerable variability, with some trips lasting much longer, as indicated by the high standard deviation and the presence of trips with durations exceeding 100 hours.\n",
    "\n"
   ]
  },
  {
   "cell_type": "markdown",
   "id": "652f63a8",
   "metadata": {},
   "source": [
    "## Split and extract features out of destination and source. City-place-code (State)"
   ]
  },
  {
   "cell_type": "code",
   "execution_count": 16,
   "id": "d7a10ef6",
   "metadata": {},
   "outputs": [],
   "source": [
    "# Extracting city, place, code, state\n",
    "\n",
    "def city_name(x):\n",
    "    city = x.split('_')[0]\n",
    "    return city\n",
    "\n",
    "def place_name(x):\n",
    "    parts = x.split('_')[1:]\n",
    "    return parts[0] if len(parts) > 0 else None\n",
    "\n",
    "def code_name(x):\n",
    "    parts = x.split('_')[2:]\n",
    "    return parts[0].split('(')[0] if len(parts) > 0 else None\n",
    "\n",
    "def state_name(x):\n",
    "    state = x.split('(')[1]\n",
    "    return state[:-1]\n",
    "\n",
    "segment['destination_state'] = segment['destination_name'].apply(state_name)\n",
    "segment['destination_city'] = segment['destination_name'].apply(city_name)\n",
    "segment['destination_place'] = segment['destination_name'].apply(place_name)\n",
    "segment['destination_code'] = segment['destination_name'].apply(code_name)\n",
    "\n",
    "segment['source_state'] = segment['source_name'].apply(state_name)\n",
    "segment['source_city'] = segment['source_name'].apply(city_name)\n",
    "segment['source_place'] = segment['source_name'].apply(place_name)\n",
    "segment['source_code'] = segment['source_name'].apply(code_name)\n"
   ]
  },
  {
   "cell_type": "markdown",
   "id": "c4f2d30b",
   "metadata": {},
   "source": [
    "### Finding out top destination name"
   ]
  },
  {
   "cell_type": "code",
   "execution_count": 17,
   "id": "0e30a063",
   "metadata": {},
   "outputs": [
    {
     "name": "stdout",
     "output_type": "stream",
     "text": [
      "Top 5 destination_state\n"
     ]
    },
    {
     "data": {
      "text/plain": [
       "Karnataka        3497\n",
       "Maharashtra      3473\n",
       "Tamil Nadu       2111\n",
       "Haryana          2014\n",
       "Uttar Pradesh    1828\n",
       "Name: destination_state, dtype: int64"
      ]
     },
     "metadata": {},
     "output_type": "display_data"
    },
    {
     "name": "stdout",
     "output_type": "stream",
     "text": [
      "********************\n",
      "Top 5 destination_city\n"
     ]
    },
    {
     "data": {
      "text/plain": [
       "Bengaluru    1180\n",
       "Mumbai       1000\n",
       "Gurgaon       986\n",
       "Bangalore     683\n",
       "Hyderabad     643\n",
       "Name: destination_city, dtype: int64"
      ]
     },
     "metadata": {},
     "output_type": "display_data"
    },
    {
     "name": "stdout",
     "output_type": "stream",
     "text": [
      "********************\n",
      "Top 5 destination_place\n"
     ]
    },
    {
     "data": {
      "text/plain": [
       "Central     1860\n",
       "Bilaspur     971\n",
       "Nelmngla     665\n",
       "Mankoli      614\n",
       "Shamshbd     464\n",
       "Name: destination_place, dtype: int64"
      ]
     },
     "metadata": {},
     "output_type": "display_data"
    },
    {
     "name": "stdout",
     "output_type": "stream",
     "text": [
      "********************\n",
      "Top 5 destination_code\n"
     ]
    },
    {
     "data": {
      "text/plain": [
       "D      9156\n",
       "H      2918\n",
       "HB     2737\n",
       "I      1980\n",
       "IP      948\n",
       "Name: destination_code, dtype: int64"
      ]
     },
     "metadata": {},
     "output_type": "display_data"
    },
    {
     "name": "stdout",
     "output_type": "stream",
     "text": [
      "********************\n"
     ]
    }
   ],
   "source": [
    "# Finding out top destination name -\n",
    "\n",
    "from IPython.display import display\n",
    "destination_column = ['destination_state','destination_city','destination_place','destination_code']\n",
    "for i in destination_column:\n",
    "    print(f'Top 5 {i}')\n",
    "    display(segment[i].value_counts().head(5))\n",
    "    print('**'*10)"
   ]
  },
  {
   "cell_type": "code",
   "execution_count": 18,
   "id": "aafd5349",
   "metadata": {},
   "outputs": [
    {
     "name": "stdout",
     "output_type": "stream",
     "text": [
      "Total number of unique destination_state: 32\n",
      "Total number of unique destination_city: 1256\n",
      "Total number of unique destination_place: 1154\n",
      "Total number of unique destination_code: 27\n"
     ]
    }
   ],
   "source": [
    "print('Total number of unique destination_state:',segment['destination_state'].nunique())\n",
    "print('Total number of unique destination_city:' ,segment['destination_city'].nunique())\n",
    "print('Total number of unique destination_place:',segment['destination_place'].nunique())\n",
    "print('Total number of unique destination_code:' ,segment['destination_code'].nunique())"
   ]
  },
  {
   "cell_type": "code",
   "execution_count": 19,
   "id": "d55e455e",
   "metadata": {},
   "outputs": [
    {
     "name": "stdout",
     "output_type": "stream",
     "text": [
      "['Haryana' 'Uttar Pradesh' 'Karnataka' 'Punjab' 'Maharashtra' 'Tamil Nadu'\n",
      " 'Gujarat' 'Delhi' 'Andhra Pradesh' 'Telangana' 'Rajasthan'\n",
      " 'Madhya Pradesh' 'Assam' 'West Bengal' 'Chandigarh'\n",
      " 'Dadra and Nagar Haveli' 'Orissa' 'Uttarakhand' 'Bihar' 'Jharkhand'\n",
      " 'Pondicherry' 'Goa' 'Himachal Pradesh' 'Kerala' 'Arunachal Pradesh'\n",
      " 'Mizoram' 'Chhattisgarh' 'Jammu & Kashmir' 'Meghalaya' 'Nagaland'\n",
      " 'Tripura' 'Daman & Diu']\n"
     ]
    }
   ],
   "source": [
    "print(segment['destination_state'].unique())"
   ]
  },
  {
   "cell_type": "code",
   "execution_count": 20,
   "id": "cfe9b07f",
   "metadata": {},
   "outputs": [
    {
     "name": "stdout",
     "output_type": "stream",
     "text": [
      "['Bilaspur' 'Central' 'ShntiSgr' ... 'AnadiDPP' 'ArickDPP' 'VrdhriRD']\n"
     ]
    }
   ],
   "source": [
    "print(segment['destination_place'].unique())"
   ]
  },
  {
   "cell_type": "code",
   "execution_count": 21,
   "id": "2fa2c779",
   "metadata": {},
   "outputs": [
    {
     "name": "stdout",
     "output_type": "stream",
     "text": [
      "['HB ' 'H' 'D ' 'H ' 'IP ' None 'Dc ' 'DC ' 'I' 'D' 'I ' 'DPP' 'DPC ' 'L '\n",
      " 'Nagar' 'PC ' 'Pc ' 'RPC ' 'P ' 'GW ' 'Gateway ' 'R' 'INT ' 'M ' 'C ' 'L'\n",
      " 'Layout' 'CP ']\n"
     ]
    }
   ],
   "source": [
    "print(segment['destination_code'].unique())"
   ]
  },
  {
   "cell_type": "code",
   "execution_count": 22,
   "id": "315d49bd",
   "metadata": {},
   "outputs": [
    {
     "name": "stdout",
     "output_type": "stream",
     "text": [
      "['Gurgaon' 'Kanpur' 'Chikblapur' ... 'Ranaghat' 'Kapadvanj' 'Lunawada']\n"
     ]
    }
   ],
   "source": [
    "print(segment['destination_city'].unique())"
   ]
  },
  {
   "cell_type": "markdown",
   "id": "cd7e3cd9",
   "metadata": {},
   "source": [
    "### Finding out top source name"
   ]
  },
  {
   "cell_type": "code",
   "execution_count": 23,
   "id": "62889435",
   "metadata": {},
   "outputs": [
    {
     "name": "stdout",
     "output_type": "stream",
     "text": [
      "Top 5 source_state\n"
     ]
    },
    {
     "data": {
      "text/plain": [
       "Maharashtra      3565\n",
       "Karnataka        3445\n",
       "Tamil Nadu       2130\n",
       "Haryana          2039\n",
       "Uttar Pradesh    1818\n",
       "Name: source_state, dtype: int64"
      ]
     },
     "metadata": {},
     "output_type": "display_data"
    },
    {
     "name": "stdout",
     "output_type": "stream",
     "text": [
      "********************\n",
      "Top 5 source_city\n"
     ]
    },
    {
     "data": {
      "text/plain": [
       "Bengaluru    1136\n",
       "Gurgaon      1130\n",
       "Bhiwandi      821\n",
       "Bangalore     792\n",
       "Mumbai        719\n",
       "Name: source_city, dtype: int64"
      ]
     },
     "metadata": {},
     "output_type": "display_data"
    },
    {
     "name": "stdout",
     "output_type": "stream",
     "text": [
      "********************\n",
      "Top 5 source_place\n"
     ]
    },
    {
     "data": {
      "text/plain": [
       "Central     1976\n",
       "Bilaspur    1074\n",
       "Mankoli      821\n",
       "Nelmngla     769\n",
       "Bomsndra     468\n",
       "Name: source_place, dtype: int64"
      ]
     },
     "metadata": {},
     "output_type": "display_data"
    },
    {
     "name": "stdout",
     "output_type": "stream",
     "text": [
      "********************\n",
      "Top 5 source_code\n"
     ]
    },
    {
     "data": {
      "text/plain": [
       "D      9139\n",
       "HB     3520\n",
       "H      2910\n",
       "I      1761\n",
       "H       760\n",
       "Name: source_code, dtype: int64"
      ]
     },
     "metadata": {},
     "output_type": "display_data"
    },
    {
     "name": "stdout",
     "output_type": "stream",
     "text": [
      "********************\n"
     ]
    }
   ],
   "source": [
    "# Finding out top source name -\n",
    "\n",
    "source_column = ['source_state','source_city','source_place','source_code']\n",
    "for i in source_column:\n",
    "    print(f'Top 5 {i}')\n",
    "    display(segment[i].value_counts().head(5))\n",
    "    print('**'*10)"
   ]
  },
  {
   "cell_type": "code",
   "execution_count": 24,
   "id": "a9ccefab",
   "metadata": {},
   "outputs": [
    {
     "name": "stdout",
     "output_type": "stream",
     "text": [
      "Total number of unique source_state: 31\n",
      "Total number of unique source_city: 1260\n",
      "Total number of unique source_place: 1177\n",
      "Total number of unique source_code: 24\n"
     ]
    }
   ],
   "source": [
    "print('Total number of unique source_state:',segment['source_state'].nunique())\n",
    "print('Total number of unique source_city:' ,segment['source_city'].nunique())\n",
    "print('Total number of unique source_place:',segment['source_place'].nunique())\n",
    "print('Total number of unique source_code:' ,segment['source_code'].nunique())"
   ]
  },
  {
   "cell_type": "code",
   "execution_count": 25,
   "id": "3498cb56",
   "metadata": {},
   "outputs": [
    {
     "name": "stdout",
     "output_type": "stream",
     "text": [
      "['Uttar Pradesh' 'Madhya Pradesh' 'Karnataka' 'Haryana' 'Maharashtra'\n",
      " 'Tamil Nadu' 'Gujarat' 'Delhi' 'Telangana' 'Andhra Pradesh' 'Rajasthan'\n",
      " 'Assam' 'West Bengal' 'Punjab' 'Chandigarh' 'Goa' 'Uttarakhand'\n",
      " 'Jharkhand' 'Pondicherry' 'Orissa' 'Himachal Pradesh' 'Kerala'\n",
      " 'Arunachal Pradesh' 'Bihar' 'Meghalaya' 'Chhattisgarh' 'Jammu & Kashmir'\n",
      " 'Dadra and Nagar Haveli' 'Mizoram' 'Tripura' 'Nagaland']\n"
     ]
    }
   ],
   "source": [
    "print(segment['source_state'].unique())"
   ]
  },
  {
   "cell_type": "code",
   "execution_count": 26,
   "id": "d6f53750",
   "metadata": {},
   "outputs": [
    {
     "name": "stdout",
     "output_type": "stream",
     "text": [
      "['Central' 'Trnsport' 'ChikaDPP' ... 'Bhaluahi' 'Thikiri' 'RajpurRD']\n"
     ]
    }
   ],
   "source": [
    "print(segment['source_place'].unique())"
   ]
  },
  {
   "cell_type": "code",
   "execution_count": 27,
   "id": "dfc833d1",
   "metadata": {},
   "outputs": [
    {
     "name": "stdout",
     "output_type": "stream",
     "text": [
      "['Kanpur' 'Bhopal' 'Doddablpur' ... 'Mahasamund' 'Badkulla' 'Kapadvanj']\n"
     ]
    }
   ],
   "source": [
    "print(segment['source_city'].unique())"
   ]
  },
  {
   "cell_type": "code",
   "execution_count": 28,
   "id": "8f97b00c",
   "metadata": {},
   "outputs": [
    {
     "name": "stdout",
     "output_type": "stream",
     "text": [
      "['H' 'H ' 'D ' 'I ' 'HB ' None 'DPC ' 'D' 'I' 'IP ' 'DPP' 'DC ' 'L ' 'M '\n",
      " 'RP ' 'Pc ' 'PC ' 'C ' 'V ' 'CP ' 'R' 'Nagar' 'Dc ' 'P ' 'L']\n"
     ]
    }
   ],
   "source": [
    "print(segment['source_code'].unique())"
   ]
  },
  {
   "cell_type": "markdown",
   "id": "a4dced1a",
   "metadata": {},
   "source": [
    "**Insights:**\n",
    "* Busiest Route route with the highest number of trips is from `Karnataka` to `Maharashtra`, with 3497 trips.\n",
    "* Popular Route to the destination place `Central` appears to be popular, with 1860 trips.\n",
    "* Bengaluru is the main source city and destination city more numbers of orders are dispatched in bengaluru\n",
    "* Most number of orders are placed in central Bilaspur and Nelmngla in Bengaluru. We can conculde that Bengaluru is the main hub for transportation.\n"
   ]
  },
  {
   "cell_type": "markdown",
   "id": "a21e1cef",
   "metadata": {},
   "source": [
    "### Trip_creation_time"
   ]
  },
  {
   "cell_type": "code",
   "execution_count": 29,
   "id": "deab700d",
   "metadata": {},
   "outputs": [],
   "source": [
    "# Trip_creation_time -\n",
    "\n",
    "segment['trip_month'] = segment['trip_creation_time'].dt.month\n",
    "segment['trip_year'] = segment['trip_creation_time'].dt.year\n",
    "segment['trip_day'] = segment['trip_creation_time'].dt.day\n",
    "segment['trip_week'] = segment['trip_creation_time'].dt.week\n",
    "segment['trip_day_name'] = segment['trip_creation_time'].dt.day_name()"
   ]
  },
  {
   "cell_type": "code",
   "execution_count": 30,
   "id": "5c9c2bef",
   "metadata": {},
   "outputs": [
    {
     "name": "stdout",
     "output_type": "stream",
     "text": [
      "Top trip_year\n"
     ]
    },
    {
     "data": {
      "text/plain": [
       "2018    26222\n",
       "Name: trip_year, dtype: int64"
      ]
     },
     "metadata": {},
     "output_type": "display_data"
    },
    {
     "name": "stdout",
     "output_type": "stream",
     "text": [
      "************************\n",
      "Top trip_month\n"
     ]
    },
    {
     "data": {
      "text/plain": [
       "9     23054\n",
       "10     3168\n",
       "Name: trip_month, dtype: int64"
      ]
     },
     "metadata": {},
     "output_type": "display_data"
    },
    {
     "name": "stdout",
     "output_type": "stream",
     "text": [
      "************************\n",
      "Top trip_week\n"
     ]
    },
    {
     "data": {
      "text/plain": [
       "38    8852\n",
       "39    7905\n",
       "37    6297\n",
       "40    3168\n",
       "Name: trip_week, dtype: int64"
      ]
     },
     "metadata": {},
     "output_type": "display_data"
    },
    {
     "name": "stdout",
     "output_type": "stream",
     "text": [
      "************************\n",
      "Top trip_day_name\n"
     ]
    },
    {
     "data": {
      "text/plain": [
       "Wednesday    4819\n",
       "Thursday     3795\n",
       "Friday       3718\n",
       "Tuesday      3708\n",
       "Saturday     3591\n",
       "Monday       3492\n",
       "Sunday       3099\n",
       "Name: trip_day_name, dtype: int64"
      ]
     },
     "metadata": {},
     "output_type": "display_data"
    },
    {
     "name": "stdout",
     "output_type": "stream",
     "text": [
      "************************\n",
      "Top trip_day\n"
     ]
    },
    {
     "data": {
      "text/plain": [
       "18    1373\n",
       "21    1358\n",
       "13    1320\n",
       "20    1319\n",
       "25    1319\n",
       "14    1296\n",
       "15    1293\n",
       "Name: trip_day, dtype: int64"
      ]
     },
     "metadata": {},
     "output_type": "display_data"
    },
    {
     "name": "stdout",
     "output_type": "stream",
     "text": [
      "************************\n"
     ]
    }
   ],
   "source": [
    "source_column = ['trip_year','trip_month','trip_week','trip_day_name','trip_day']\n",
    "for i in source_column:\n",
    "    print(f'Top {i}')\n",
    "    display(segment[i].value_counts().head(7))\n",
    "    print('**'*12)"
   ]
  },
  {
   "cell_type": "markdown",
   "id": "ea51abf3",
   "metadata": {},
   "source": [
    "**Insights:**\n",
    "* Busiest Year: The dataset primarily consists of trips from the year 2018, with all 26,222 trips recorded during that year.\n",
    "* Busiest Month: September (Month 9) stands out as the busiest month, with a significant number of trips recorded (23,054 trips). October (Month 10) follows with a comparatively smaller number of trips (3,168).\n",
    "* Busiest Week: Week 38 appears to be the busiest week, accounting for 8,852 trips. The subsequent weeks 39, 37, and 40 also exhibit high activity with 7,905, 6,297, and 3,168 trips, respectively.\n",
    "* Busiest Day of the Week: Wednesday is identified as the busiest day of the week, with 4,819 trips. Thursday and Friday closely follow with 3,795 and 3,718 trips, respectively.\n",
    "* Busiest Day: The 18th day of the month is the busiest, recording 1,373 trips. Days 21, 13, 20, and 25 also exhibit high activity with similar trip counts.\n"
   ]
  },
  {
   "cell_type": "markdown",
   "id": "f34e1814",
   "metadata": {},
   "source": [
    "## Grouping and Aggregating at Trip-level"
   ]
  },
  {
   "cell_type": "code",
   "execution_count": 31,
   "id": "86f6f917",
   "metadata": {},
   "outputs": [
    {
     "data": {
      "text/html": [
       "<div>\n",
       "<style scoped>\n",
       "    .dataframe tbody tr th:only-of-type {\n",
       "        vertical-align: middle;\n",
       "    }\n",
       "\n",
       "    .dataframe tbody tr th {\n",
       "        vertical-align: top;\n",
       "    }\n",
       "\n",
       "    .dataframe thead th {\n",
       "        text-align: right;\n",
       "    }\n",
       "</style>\n",
       "<table border=\"1\" class=\"dataframe\">\n",
       "  <thead>\n",
       "    <tr style=\"text-align: right;\">\n",
       "      <th></th>\n",
       "      <th>data</th>\n",
       "      <th>trip_creation_time</th>\n",
       "      <th>route_schedule_uuid</th>\n",
       "      <th>route_type</th>\n",
       "      <th>trip_uuid</th>\n",
       "      <th>source_center</th>\n",
       "      <th>source_name</th>\n",
       "      <th>destination_center</th>\n",
       "      <th>destination_name</th>\n",
       "      <th>od_time_diff_hour</th>\n",
       "      <th>start_scan_to_end_scan</th>\n",
       "      <th>actual_distance_to_destination</th>\n",
       "      <th>actual_time</th>\n",
       "      <th>osrm_time</th>\n",
       "      <th>osrm_distance</th>\n",
       "      <th>segment_actual_time_sum</th>\n",
       "      <th>segment_osrm_distance_sum</th>\n",
       "      <th>segment_osrm_time_sum</th>\n",
       "    </tr>\n",
       "  </thead>\n",
       "  <tbody>\n",
       "    <tr>\n",
       "      <th>0</th>\n",
       "      <td>training</td>\n",
       "      <td>2018-09-12 00:00:16.535741</td>\n",
       "      <td>thanos::sroute:d7c989ba-a29b-4a0b-b2f4-288cdc6...</td>\n",
       "      <td>FTL</td>\n",
       "      <td>trip-153671041653548748</td>\n",
       "      <td>IND209304AAA</td>\n",
       "      <td>Kanpur_Central_H_6 (Uttar Pradesh)</td>\n",
       "      <td>IND209304AAA</td>\n",
       "      <td>Kanpur_Central_H_6 (Uttar Pradesh)</td>\n",
       "      <td>37.668</td>\n",
       "      <td>1260.0</td>\n",
       "      <td>824.732854</td>\n",
       "      <td>1562.0</td>\n",
       "      <td>717.0</td>\n",
       "      <td>991.3523</td>\n",
       "      <td>1548.0</td>\n",
       "      <td>1320.4733</td>\n",
       "      <td>1008.0</td>\n",
       "    </tr>\n",
       "    <tr>\n",
       "      <th>1</th>\n",
       "      <td>training</td>\n",
       "      <td>2018-09-12 00:00:22.886430</td>\n",
       "      <td>thanos::sroute:3a1b0ab2-bb0b-4c53-8c59-eb2a2c0...</td>\n",
       "      <td>Carting</td>\n",
       "      <td>trip-153671042288605164</td>\n",
       "      <td>IND561203AAB</td>\n",
       "      <td>Doddablpur_ChikaDPP_D (Karnataka)</td>\n",
       "      <td>IND561203AAB</td>\n",
       "      <td>Doddablpur_ChikaDPP_D (Karnataka)</td>\n",
       "      <td>3.027</td>\n",
       "      <td>58.0</td>\n",
       "      <td>73.186911</td>\n",
       "      <td>143.0</td>\n",
       "      <td>68.0</td>\n",
       "      <td>85.1110</td>\n",
       "      <td>141.0</td>\n",
       "      <td>84.1894</td>\n",
       "      <td>65.0</td>\n",
       "    </tr>\n",
       "    <tr>\n",
       "      <th>2</th>\n",
       "      <td>training</td>\n",
       "      <td>2018-09-12 00:00:33.691250</td>\n",
       "      <td>thanos::sroute:de5e208e-7641-45e6-8100-4d9fb1e...</td>\n",
       "      <td>FTL</td>\n",
       "      <td>trip-153671043369099517</td>\n",
       "      <td>IND000000ACB</td>\n",
       "      <td>Gurgaon_Bilaspur_HB (Haryana)</td>\n",
       "      <td>IND000000ACB</td>\n",
       "      <td>Gurgaon_Bilaspur_HB (Haryana)</td>\n",
       "      <td>65.573</td>\n",
       "      <td>834.0</td>\n",
       "      <td>1927.404273</td>\n",
       "      <td>3347.0</td>\n",
       "      <td>1740.0</td>\n",
       "      <td>2354.0665</td>\n",
       "      <td>3308.0</td>\n",
       "      <td>2545.2678</td>\n",
       "      <td>1941.0</td>\n",
       "    </tr>\n",
       "    <tr>\n",
       "      <th>3</th>\n",
       "      <td>training</td>\n",
       "      <td>2018-09-12 00:01:00.113710</td>\n",
       "      <td>thanos::sroute:f0176492-a679-4597-8332-bbd1c7f...</td>\n",
       "      <td>Carting</td>\n",
       "      <td>trip-153671046011330457</td>\n",
       "      <td>IND400072AAB</td>\n",
       "      <td>Mumbai Hub (Maharashtra)</td>\n",
       "      <td>IND401104AAA</td>\n",
       "      <td>Mumbai_MiraRd_IP (Maharashtra)</td>\n",
       "      <td>1.675</td>\n",
       "      <td>100.0</td>\n",
       "      <td>17.175274</td>\n",
       "      <td>59.0</td>\n",
       "      <td>15.0</td>\n",
       "      <td>19.6800</td>\n",
       "      <td>59.0</td>\n",
       "      <td>19.8766</td>\n",
       "      <td>16.0</td>\n",
       "    </tr>\n",
       "    <tr>\n",
       "      <th>4</th>\n",
       "      <td>training</td>\n",
       "      <td>2018-09-12 00:02:09.740725</td>\n",
       "      <td>thanos::sroute:d9f07b12-65e0-4f3b-bec8-df06134...</td>\n",
       "      <td>FTL</td>\n",
       "      <td>trip-153671052974046625</td>\n",
       "      <td>IND583101AAA</td>\n",
       "      <td>Bellary_Dc (Karnataka)</td>\n",
       "      <td>IND583119AAA</td>\n",
       "      <td>Sandur_WrdN1DPP_D (Karnataka)</td>\n",
       "      <td>11.973</td>\n",
       "      <td>152.0</td>\n",
       "      <td>127.448500</td>\n",
       "      <td>341.0</td>\n",
       "      <td>117.0</td>\n",
       "      <td>146.7918</td>\n",
       "      <td>340.0</td>\n",
       "      <td>146.7919</td>\n",
       "      <td>115.0</td>\n",
       "    </tr>\n",
       "  </tbody>\n",
       "</table>\n",
       "</div>"
      ],
      "text/plain": [
       "       data         trip_creation_time  \\\n",
       "0  training 2018-09-12 00:00:16.535741   \n",
       "1  training 2018-09-12 00:00:22.886430   \n",
       "2  training 2018-09-12 00:00:33.691250   \n",
       "3  training 2018-09-12 00:01:00.113710   \n",
       "4  training 2018-09-12 00:02:09.740725   \n",
       "\n",
       "                                 route_schedule_uuid route_type  \\\n",
       "0  thanos::sroute:d7c989ba-a29b-4a0b-b2f4-288cdc6...        FTL   \n",
       "1  thanos::sroute:3a1b0ab2-bb0b-4c53-8c59-eb2a2c0...    Carting   \n",
       "2  thanos::sroute:de5e208e-7641-45e6-8100-4d9fb1e...        FTL   \n",
       "3  thanos::sroute:f0176492-a679-4597-8332-bbd1c7f...    Carting   \n",
       "4  thanos::sroute:d9f07b12-65e0-4f3b-bec8-df06134...        FTL   \n",
       "\n",
       "                 trip_uuid source_center                         source_name  \\\n",
       "0  trip-153671041653548748  IND209304AAA  Kanpur_Central_H_6 (Uttar Pradesh)   \n",
       "1  trip-153671042288605164  IND561203AAB   Doddablpur_ChikaDPP_D (Karnataka)   \n",
       "2  trip-153671043369099517  IND000000ACB       Gurgaon_Bilaspur_HB (Haryana)   \n",
       "3  trip-153671046011330457  IND400072AAB            Mumbai Hub (Maharashtra)   \n",
       "4  trip-153671052974046625  IND583101AAA              Bellary_Dc (Karnataka)   \n",
       "\n",
       "  destination_center                    destination_name  od_time_diff_hour  \\\n",
       "0       IND209304AAA  Kanpur_Central_H_6 (Uttar Pradesh)             37.668   \n",
       "1       IND561203AAB   Doddablpur_ChikaDPP_D (Karnataka)              3.027   \n",
       "2       IND000000ACB       Gurgaon_Bilaspur_HB (Haryana)             65.573   \n",
       "3       IND401104AAA      Mumbai_MiraRd_IP (Maharashtra)              1.675   \n",
       "4       IND583119AAA       Sandur_WrdN1DPP_D (Karnataka)             11.973   \n",
       "\n",
       "   start_scan_to_end_scan  actual_distance_to_destination  actual_time  \\\n",
       "0                  1260.0                      824.732854       1562.0   \n",
       "1                    58.0                       73.186911        143.0   \n",
       "2                   834.0                     1927.404273       3347.0   \n",
       "3                   100.0                       17.175274         59.0   \n",
       "4                   152.0                      127.448500        341.0   \n",
       "\n",
       "   osrm_time  osrm_distance  segment_actual_time_sum  \\\n",
       "0      717.0       991.3523                   1548.0   \n",
       "1       68.0        85.1110                    141.0   \n",
       "2     1740.0      2354.0665                   3308.0   \n",
       "3       15.0        19.6800                     59.0   \n",
       "4      117.0       146.7918                    340.0   \n",
       "\n",
       "   segment_osrm_distance_sum  segment_osrm_time_sum  \n",
       "0                  1320.4733                 1008.0  \n",
       "1                    84.1894                   65.0  \n",
       "2                  2545.2678                 1941.0  \n",
       "3                    19.8766                   16.0  \n",
       "4                   146.7919                  115.0  "
      ]
     },
     "execution_count": 31,
     "metadata": {},
     "output_type": "execute_result"
    }
   ],
   "source": [
    "#  Groups the segment data by the trip_uuid column to focus on aggregating data at the trip level -\n",
    "\n",
    "create_trip_dict = { \n",
    "    \n",
    "    'data' : 'first',\n",
    "    'trip_creation_time': 'first',\n",
    "    'route_schedule_uuid' : 'first',\n",
    "    'route_type' : 'first',\n",
    "    'trip_uuid' : 'first',\n",
    "    'source_center' : 'first',\n",
    "    'source_name' : 'first',\n",
    "\n",
    "    'destination_center' : 'last',\n",
    "    'destination_name' : 'last',\n",
    "    'od_time_diff_hour' : 'sum',\n",
    "    'start_scan_to_end_scan' : 'first',\n",
    "\n",
    "\n",
    "    'actual_distance_to_destination' : 'sum',\n",
    "    'actual_time' : 'sum',\n",
    "\n",
    "    'osrm_time' : 'sum',\n",
    "    'osrm_distance' : 'sum',\n",
    "\n",
    "    'segment_actual_time_sum' : 'sum',\n",
    "    'segment_osrm_distance_sum' : 'sum',\n",
    "    'segment_osrm_time_sum' : 'sum',\n",
    "}\n",
    "\n",
    "trip = segment.groupby('trip_uuid').agg(create_trip_dict).reset_index(drop=True)\n",
    "trip.head()"
   ]
  },
  {
   "cell_type": "code",
   "execution_count": 32,
   "id": "46676a1f",
   "metadata": {},
   "outputs": [
    {
     "name": "stdout",
     "output_type": "stream",
     "text": [
      "<class 'pandas.core.frame.DataFrame'>\n",
      "RangeIndex: 14787 entries, 0 to 14786\n",
      "Data columns (total 18 columns):\n",
      " #   Column                          Non-Null Count  Dtype         \n",
      "---  ------                          --------------  -----         \n",
      " 0   data                            14787 non-null  category      \n",
      " 1   trip_creation_time              14787 non-null  datetime64[ns]\n",
      " 2   route_schedule_uuid             14787 non-null  object        \n",
      " 3   route_type                      14787 non-null  category      \n",
      " 4   trip_uuid                       14787 non-null  object        \n",
      " 5   source_center                   14787 non-null  object        \n",
      " 6   source_name                     14787 non-null  object        \n",
      " 7   destination_center              14787 non-null  object        \n",
      " 8   destination_name                14787 non-null  object        \n",
      " 9   od_time_diff_hour               14787 non-null  float64       \n",
      " 10  start_scan_to_end_scan          14787 non-null  float64       \n",
      " 11  actual_distance_to_destination  14787 non-null  float64       \n",
      " 12  actual_time                     14787 non-null  float64       \n",
      " 13  osrm_time                       14787 non-null  float64       \n",
      " 14  osrm_distance                   14787 non-null  float64       \n",
      " 15  segment_actual_time_sum         14787 non-null  float64       \n",
      " 16  segment_osrm_distance_sum       14787 non-null  float64       \n",
      " 17  segment_osrm_time_sum           14787 non-null  float64       \n",
      "dtypes: category(2), datetime64[ns](1), float64(9), object(6)\n",
      "memory usage: 1.8+ MB\n"
     ]
    }
   ],
   "source": [
    "trip.info()"
   ]
  },
  {
   "cell_type": "code",
   "execution_count": 33,
   "id": "200326cf",
   "metadata": {},
   "outputs": [
    {
     "data": {
      "text/html": [
       "<div>\n",
       "<style scoped>\n",
       "    .dataframe tbody tr th:only-of-type {\n",
       "        vertical-align: middle;\n",
       "    }\n",
       "\n",
       "    .dataframe tbody tr th {\n",
       "        vertical-align: top;\n",
       "    }\n",
       "\n",
       "    .dataframe thead th {\n",
       "        text-align: right;\n",
       "    }\n",
       "</style>\n",
       "<table border=\"1\" class=\"dataframe\">\n",
       "  <thead>\n",
       "    <tr style=\"text-align: right;\">\n",
       "      <th></th>\n",
       "      <th>5917</th>\n",
       "    </tr>\n",
       "  </thead>\n",
       "  <tbody>\n",
       "    <tr>\n",
       "      <th>data</th>\n",
       "      <td>training</td>\n",
       "    </tr>\n",
       "    <tr>\n",
       "      <th>trip_creation_time</th>\n",
       "      <td>2018-09-20 02:35:36.476840</td>\n",
       "    </tr>\n",
       "    <tr>\n",
       "      <th>route_schedule_uuid</th>\n",
       "      <td>thanos::sroute:eb7bfc78-b351-4c0e-a951-fa3d5c3...</td>\n",
       "    </tr>\n",
       "    <tr>\n",
       "      <th>route_type</th>\n",
       "      <td>Carting</td>\n",
       "    </tr>\n",
       "    <tr>\n",
       "      <th>trip_uuid</th>\n",
       "      <td>trip-153741093647649320</td>\n",
       "    </tr>\n",
       "    <tr>\n",
       "      <th>source_center</th>\n",
       "      <td>IND388121AAA</td>\n",
       "    </tr>\n",
       "    <tr>\n",
       "      <th>source_name</th>\n",
       "      <td>Anand_VUNagar_DC (Gujarat)</td>\n",
       "    </tr>\n",
       "    <tr>\n",
       "      <th>destination_center</th>\n",
       "      <td>IND388320AAA</td>\n",
       "    </tr>\n",
       "    <tr>\n",
       "      <th>destination_name</th>\n",
       "      <td>Anand_Vaghasi_IP (Gujarat)</td>\n",
       "    </tr>\n",
       "    <tr>\n",
       "      <th>od_time_diff_hour</th>\n",
       "      <td>3.257</td>\n",
       "    </tr>\n",
       "    <tr>\n",
       "      <th>start_scan_to_end_scan</th>\n",
       "      <td>86.0</td>\n",
       "    </tr>\n",
       "    <tr>\n",
       "      <th>actual_distance_to_destination</th>\n",
       "      <td>82.981842</td>\n",
       "    </tr>\n",
       "    <tr>\n",
       "      <th>actual_time</th>\n",
       "      <td>170.0</td>\n",
       "    </tr>\n",
       "    <tr>\n",
       "      <th>osrm_time</th>\n",
       "      <td>89.0</td>\n",
       "    </tr>\n",
       "    <tr>\n",
       "      <th>osrm_distance</th>\n",
       "      <td>107.4515</td>\n",
       "    </tr>\n",
       "    <tr>\n",
       "      <th>segment_actual_time_sum</th>\n",
       "      <td>167.0</td>\n",
       "    </tr>\n",
       "    <tr>\n",
       "      <th>segment_osrm_distance_sum</th>\n",
       "      <td>102.7106</td>\n",
       "    </tr>\n",
       "    <tr>\n",
       "      <th>segment_osrm_time_sum</th>\n",
       "      <td>88.0</td>\n",
       "    </tr>\n",
       "  </tbody>\n",
       "</table>\n",
       "</div>"
      ],
      "text/plain": [
       "                                                                             5917\n",
       "data                                                                     training\n",
       "trip_creation_time                                     2018-09-20 02:35:36.476840\n",
       "route_schedule_uuid             thanos::sroute:eb7bfc78-b351-4c0e-a951-fa3d5c3...\n",
       "route_type                                                                Carting\n",
       "trip_uuid                                                 trip-153741093647649320\n",
       "source_center                                                        IND388121AAA\n",
       "source_name                                            Anand_VUNagar_DC (Gujarat)\n",
       "destination_center                                                   IND388320AAA\n",
       "destination_name                                       Anand_Vaghasi_IP (Gujarat)\n",
       "od_time_diff_hour                                                           3.257\n",
       "start_scan_to_end_scan                                                       86.0\n",
       "actual_distance_to_destination                                          82.981842\n",
       "actual_time                                                                 170.0\n",
       "osrm_time                                                                    89.0\n",
       "osrm_distance                                                            107.4515\n",
       "segment_actual_time_sum                                                     167.0\n",
       "segment_osrm_distance_sum                                                102.7106\n",
       "segment_osrm_time_sum                                                        88.0"
      ]
     },
     "execution_count": 33,
     "metadata": {},
     "output_type": "execute_result"
    }
   ],
   "source": [
    "#  We have aggregated all the rows to now trip level for one trip id we will get following result -\n",
    "trip[trip['trip_uuid'] == 'trip-153741093647649320'].T"
   ]
  },
  {
   "cell_type": "code",
   "execution_count": 34,
   "id": "92e1a008",
   "metadata": {},
   "outputs": [
    {
     "data": {
      "text/html": [
       "<div>\n",
       "<style scoped>\n",
       "    .dataframe tbody tr th:only-of-type {\n",
       "        vertical-align: middle;\n",
       "    }\n",
       "\n",
       "    .dataframe tbody tr th {\n",
       "        vertical-align: top;\n",
       "    }\n",
       "\n",
       "    .dataframe thead th {\n",
       "        text-align: right;\n",
       "    }\n",
       "</style>\n",
       "<table border=\"1\" class=\"dataframe\">\n",
       "  <thead>\n",
       "    <tr style=\"text-align: right;\">\n",
       "      <th></th>\n",
       "      <th>actual_time</th>\n",
       "      <th>segment_actual_time_sum</th>\n",
       "    </tr>\n",
       "  </thead>\n",
       "  <tbody>\n",
       "    <tr>\n",
       "      <th>0</th>\n",
       "      <td>1562.0</td>\n",
       "      <td>1548.0</td>\n",
       "    </tr>\n",
       "    <tr>\n",
       "      <th>1</th>\n",
       "      <td>143.0</td>\n",
       "      <td>141.0</td>\n",
       "    </tr>\n",
       "    <tr>\n",
       "      <th>2</th>\n",
       "      <td>3347.0</td>\n",
       "      <td>3308.0</td>\n",
       "    </tr>\n",
       "    <tr>\n",
       "      <th>3</th>\n",
       "      <td>59.0</td>\n",
       "      <td>59.0</td>\n",
       "    </tr>\n",
       "    <tr>\n",
       "      <th>4</th>\n",
       "      <td>341.0</td>\n",
       "      <td>340.0</td>\n",
       "    </tr>\n",
       "    <tr>\n",
       "      <th>5</th>\n",
       "      <td>61.0</td>\n",
       "      <td>60.0</td>\n",
       "    </tr>\n",
       "    <tr>\n",
       "      <th>6</th>\n",
       "      <td>24.0</td>\n",
       "      <td>24.0</td>\n",
       "    </tr>\n",
       "    <tr>\n",
       "      <th>7</th>\n",
       "      <td>64.0</td>\n",
       "      <td>64.0</td>\n",
       "    </tr>\n",
       "    <tr>\n",
       "      <th>8</th>\n",
       "      <td>161.0</td>\n",
       "      <td>161.0</td>\n",
       "    </tr>\n",
       "    <tr>\n",
       "      <th>9</th>\n",
       "      <td>23.0</td>\n",
       "      <td>23.0</td>\n",
       "    </tr>\n",
       "  </tbody>\n",
       "</table>\n",
       "</div>"
      ],
      "text/plain": [
       "   actual_time  segment_actual_time_sum\n",
       "0       1562.0                   1548.0\n",
       "1        143.0                    141.0\n",
       "2       3347.0                   3308.0\n",
       "3         59.0                     59.0\n",
       "4        341.0                    340.0\n",
       "5         61.0                     60.0\n",
       "6         24.0                     24.0\n",
       "7         64.0                     64.0\n",
       "8        161.0                    161.0\n",
       "9         23.0                     23.0"
      ]
     },
     "execution_count": 34,
     "metadata": {},
     "output_type": "execute_result"
    }
   ],
   "source": [
    "# we will compare now distribution of actual time and segment actual time sum -\n",
    "trip[['actual_time','segment_actual_time_sum']].head(10)"
   ]
  },
  {
   "cell_type": "code",
   "execution_count": 35,
   "id": "7ab9a866",
   "metadata": {},
   "outputs": [
    {
     "data": {
      "text/plain": [
       "[<matplotlib.lines.Line2D at 0x1951aad6f10>]"
      ]
     },
     "execution_count": 35,
     "metadata": {},
     "output_type": "execute_result"
    },
    {
     "data": {
      "image/png": "[encoded data removed]",
      "text/plain": [
       "<Figure size 640x480 with 1 Axes>"
      ]
     },
     "metadata": {},
     "output_type": "display_data"
    }
   ],
   "source": [
    "# we will plot empirical cumulative distribution function to see how the curve is looking -\n",
    "from statsmodels.distributions.empirical_distribution import ECDF\n",
    "e1=ECDF(trip['actual_time'])\n",
    "e2=ECDF(trip['segment_actual_time_sum'])\n",
    "plt.plot(e1.x,e1.y,c='b')\n",
    "plt.plot(e2.x,e2.y,c='r')"
   ]
  },
  {
   "cell_type": "markdown",
   "id": "fda90eaf",
   "metadata": {},
   "source": [
    "* Here the distance is very small we can't see also this both actual time and segment actual time sum belong to same distribution\n"
   ]
  },
  {
   "cell_type": "markdown",
   "id": "c2c15853",
   "metadata": {},
   "source": [
    "### hypothesis testing between actual_time and segment_actual_time_sum"
   ]
  },
  {
   "cell_type": "code",
   "execution_count": 36,
   "id": "cc779935",
   "metadata": {},
   "outputs": [
    {
     "name": "stdout",
     "output_type": "stream",
     "text": [
      "corr_coefficient :  1.0\n",
      "p_value :  0.0\n",
      "Reject the null hypothesis: There is strong correlation between the two variables \n"
     ]
    },
    {
     "data": {
      "image/png": "[encoded data removed]",
      "text/plain": [
       "<Figure size 640x480 with 1 Axes>"
      ]
     },
     "metadata": {},
     "output_type": "display_data"
    }
   ],
   "source": [
    "# Null Hypothesis (H0) : There is no correlation between the two variables\n",
    "# Alternate hypothesis (Ha) : There is strong correlation between the two variables\n",
    "\n",
    "# Calculate the Pearson correlation coefficient\n",
    "corr_coefficient,p_value =  pearsonr(trip['actual_time'], trip['segment_actual_time_sum'])\n",
    "print(\"corr_coefficient : \",corr_coefficient.round(4))\n",
    "print(\"p_value : \",p_value.round(4))\n",
    "\n",
    "# Set a significance level (alpha=0.05)\n",
    "alpha = 0.05\n",
    "# Decision based on p-value\n",
    "if p_value <= alpha:\n",
    "    print(\"Reject the null hypothesis: There is strong correlation between the two variables \")\n",
    "else:\n",
    "    print(\"Fail to reject the null hypothesis: There is no correlation between the two variables\")\n",
    "\n",
    "# Create a scatter plot with a regression line\n",
    "sns.scatterplot(x='actual_time', y='segment_actual_time_sum', data=trip)\n",
    "\n",
    "# Display the correlation coefficient on the plot\n",
    "plt.title(f'Pearson Correlation Coefficient: {corr_coefficient:.2f}')\n",
    "plt.show()"
   ]
  },
  {
   "cell_type": "markdown",
   "id": "9442567c",
   "metadata": {},
   "source": [
    "**Insights:**\n",
    "\n",
    "The Pearson correlation coefficient (`r`) you obtained is approximately 1, and the p-value is 0.0. Here's what this information means:\n",
    "\n",
    "*  **Pearson Correlation Coefficient (`r`):**\n",
    "   - The value of `r` close to 1 indicates a strong positive linear relationship between the 'actual_time' and 'segment_actual_time_sum' columns. In other words, as one variable increases, the other tends to increase proportionally.\n",
    "\n",
    "* **P-value:**\n",
    "   - The p-value being 0.0 suggests that the observed correlation is statistically significant. In hypothesis testing, a low p-value (typically below a significance level like 0.05) indicates that you can reject the null hypothesis. In this context, the null hypothesis would be that there is no correlation between the two variables.\n"
   ]
  },
  {
   "cell_type": "markdown",
   "id": "4ebe91ef",
   "metadata": {},
   "source": [
    "<!-- fig,axs = plt.subplots(nrows=3,ncols=3,figsize=(20,5))\n",
    "fig.subplots_adjust(top=2.3)\n",
    "\n",
    "count = 0\n",
    "for i in range(3):\n",
    "    for j in range(3):\n",
    "        sns.boxplot(data=trip,y=num_cols[count],ax=axs[i,j])\n",
    "        axs[i,j].set_title(f'{num_cols[count]}')\n",
    "        count += 1\n",
    "plt.show()\n",
    "trip[num_cols].boxplot(rot=25,figsize=(25,8)) -->"
   ]
  },
  {
   "cell_type": "markdown",
   "id": "b72abf4f",
   "metadata": {},
   "source": [
    "### Visualize the outlier values using Boxplot.\n"
   ]
  },
  {
   "cell_type": "code",
   "execution_count": 37,
   "id": "d38e54da",
   "metadata": {},
   "outputs": [
    {
     "data": {
      "image/png": "[encoded data removed]",
      "text/plain": [
       "<Figure size 2000x800 with 1 Axes>"
      ]
     },
     "metadata": {},
     "output_type": "display_data"
    }
   ],
   "source": [
    "# Plotting boxplot for continuous column to see the outliers - \n",
    "\n",
    "num_cols = ['start_scan_to_end_scan', 'actual_distance_to_destination', 'actual_time', 'osrm_time',\n",
    "            'osrm_distance', 'segment_actual_time_sum', 'segment_osrm_distance_sum',\n",
    "            'segment_osrm_time_sum', 'od_time_diff_hour']\n",
    "\n",
    "plt.figure(figsize=(20,8))\n",
    "sns.boxplot(data=trip[num_cols])\n",
    "plt.xticks(rotation=20)\n",
    "plt.show()"
   ]
  },
  {
   "cell_type": "markdown",
   "id": "151e05d3",
   "metadata": {},
   "source": [
    "* Here we can see that in almost all the columns there outlier vaules "
   ]
  },
  {
   "cell_type": "code",
   "execution_count": 38,
   "id": "89eeddee",
   "metadata": {},
   "outputs": [
    {
     "name": "stdout",
     "output_type": "stream",
     "text": [
      "Q1 \n",
      "start_scan_to_end_scan            104.000000\n",
      "actual_distance_to_destination     22.777099\n",
      "actual_time                        67.000000\n",
      "osrm_time                          29.000000\n",
      "osrm_distance                      30.756900\n",
      "segment_actual_time_sum            66.000000\n",
      "segment_osrm_distance_sum          32.578850\n",
      "segment_osrm_time_sum              30.000000\n",
      "od_time_diff_hour                   2.495000\n",
      "Name: 0.25, dtype: float64\n",
      "********************\n",
      "\n",
      "Q3 \n",
      "start_scan_to_end_scan            334.000000\n",
      "actual_distance_to_destination    163.591258\n",
      "actual_time                       367.000000\n",
      "osrm_time                         168.000000\n",
      "osrm_distance                     206.644200\n",
      "segment_actual_time_sum           364.000000\n",
      "segment_osrm_distance_sum         216.560600\n",
      "segment_osrm_time_sum             184.000000\n",
      "od_time_diff_hour                  10.559000\n",
      "Name: 0.75, dtype: float64\n",
      "********************\n",
      "\n",
      "IQR \n",
      "start_scan_to_end_scan            230.000000\n",
      "actual_distance_to_destination    140.814159\n",
      "actual_time                       300.000000\n",
      "osrm_time                         139.000000\n",
      "osrm_distance                     175.887300\n",
      "segment_actual_time_sum           298.000000\n",
      "segment_osrm_distance_sum         183.981750\n",
      "segment_osrm_time_sum             154.000000\n",
      "od_time_diff_hour                   8.064000\n",
      "dtype: float64\n"
     ]
    }
   ],
   "source": [
    "Q1 = trip[num_cols].quantile(0.25)\n",
    "Q3 = trip[num_cols].quantile(0.75)\n",
    "IQR = Q3 - Q1\n",
    "print(f'Q1 \\n{Q1}')\n",
    "print('**'*10)\n",
    "print(f'\\nQ3 \\n{Q3}')\n",
    "print('**'*10)\n",
    "print(f'\\nIQR \\n{IQR}')"
   ]
  },
  {
   "cell_type": "code",
   "execution_count": 39,
   "id": "46797394",
   "metadata": {},
   "outputs": [
    {
     "name": "stdout",
     "output_type": "stream",
     "text": [
      "Lower Bond \n",
      "start_scan_to_end_scan           -241.000000\n",
      "actual_distance_to_destination   -188.444140\n",
      "actual_time                      -383.000000\n",
      "osrm_time                        -179.500000\n",
      "osrm_distance                    -233.074050\n",
      "segment_actual_time_sum          -381.000000\n",
      "segment_osrm_distance_sum        -243.393775\n",
      "segment_osrm_time_sum            -201.000000\n",
      "od_time_diff_hour                  -9.601000\n",
      "dtype: float64\n",
      "********************\n",
      "\n",
      "Upper Bond \n",
      "start_scan_to_end_scan            679.000000\n",
      "actual_distance_to_destination    374.812497\n",
      "actual_time                       817.000000\n",
      "osrm_time                         376.500000\n",
      "osrm_distance                     470.475150\n",
      "segment_actual_time_sum           811.000000\n",
      "segment_osrm_distance_sum         492.533225\n",
      "segment_osrm_time_sum             415.000000\n",
      "od_time_diff_hour                  22.655000\n",
      "dtype: float64\n"
     ]
    }
   ],
   "source": [
    "lower_bond = Q1 - 1.5*IQR\n",
    "upper_bond = Q3 + 1.5*IQR\n",
    "print(f'Lower Bond \\n{lower_bond}')\n",
    "print('**'*10)\n",
    "print(f'\\nUpper Bond \\n{upper_bond}')"
   ]
  },
  {
   "cell_type": "code",
   "execution_count": 40,
   "id": "b2b40808",
   "metadata": {},
   "outputs": [
    {
     "data": {
      "text/html": [
       "<div>\n",
       "<style scoped>\n",
       "    .dataframe tbody tr th:only-of-type {\n",
       "        vertical-align: middle;\n",
       "    }\n",
       "\n",
       "    .dataframe tbody tr th {\n",
       "        vertical-align: top;\n",
       "    }\n",
       "\n",
       "    .dataframe thead th {\n",
       "        text-align: right;\n",
       "    }\n",
       "</style>\n",
       "<table border=\"1\" class=\"dataframe\">\n",
       "  <thead>\n",
       "    <tr style=\"text-align: right;\">\n",
       "      <th></th>\n",
       "      <th>data</th>\n",
       "      <th>trip_creation_time</th>\n",
       "      <th>route_schedule_uuid</th>\n",
       "      <th>route_type</th>\n",
       "      <th>trip_uuid</th>\n",
       "      <th>source_center</th>\n",
       "      <th>source_name</th>\n",
       "      <th>destination_center</th>\n",
       "      <th>destination_name</th>\n",
       "      <th>od_time_diff_hour</th>\n",
       "      <th>start_scan_to_end_scan</th>\n",
       "      <th>actual_distance_to_destination</th>\n",
       "      <th>actual_time</th>\n",
       "      <th>osrm_time</th>\n",
       "      <th>osrm_distance</th>\n",
       "      <th>segment_actual_time_sum</th>\n",
       "      <th>segment_osrm_distance_sum</th>\n",
       "      <th>segment_osrm_time_sum</th>\n",
       "    </tr>\n",
       "  </thead>\n",
       "  <tbody>\n",
       "    <tr>\n",
       "      <th>1</th>\n",
       "      <td>training</td>\n",
       "      <td>2018-09-12 00:00:22.886430</td>\n",
       "      <td>thanos::sroute:3a1b0ab2-bb0b-4c53-8c59-eb2a2c0...</td>\n",
       "      <td>Carting</td>\n",
       "      <td>trip-153671042288605164</td>\n",
       "      <td>IND561203AAB</td>\n",
       "      <td>Doddablpur_ChikaDPP_D (Karnataka)</td>\n",
       "      <td>IND561203AAB</td>\n",
       "      <td>Doddablpur_ChikaDPP_D (Karnataka)</td>\n",
       "      <td>3.027</td>\n",
       "      <td>58.0</td>\n",
       "      <td>73.186911</td>\n",
       "      <td>143.0</td>\n",
       "      <td>68.0</td>\n",
       "      <td>85.1110</td>\n",
       "      <td>141.0</td>\n",
       "      <td>84.1894</td>\n",
       "      <td>65.0</td>\n",
       "    </tr>\n",
       "    <tr>\n",
       "      <th>3</th>\n",
       "      <td>training</td>\n",
       "      <td>2018-09-12 00:01:00.113710</td>\n",
       "      <td>thanos::sroute:f0176492-a679-4597-8332-bbd1c7f...</td>\n",
       "      <td>Carting</td>\n",
       "      <td>trip-153671046011330457</td>\n",
       "      <td>IND400072AAB</td>\n",
       "      <td>Mumbai Hub (Maharashtra)</td>\n",
       "      <td>IND401104AAA</td>\n",
       "      <td>Mumbai_MiraRd_IP (Maharashtra)</td>\n",
       "      <td>1.675</td>\n",
       "      <td>100.0</td>\n",
       "      <td>17.175274</td>\n",
       "      <td>59.0</td>\n",
       "      <td>15.0</td>\n",
       "      <td>19.6800</td>\n",
       "      <td>59.0</td>\n",
       "      <td>19.8766</td>\n",
       "      <td>16.0</td>\n",
       "    </tr>\n",
       "    <tr>\n",
       "      <th>4</th>\n",
       "      <td>training</td>\n",
       "      <td>2018-09-12 00:02:09.740725</td>\n",
       "      <td>thanos::sroute:d9f07b12-65e0-4f3b-bec8-df06134...</td>\n",
       "      <td>FTL</td>\n",
       "      <td>trip-153671052974046625</td>\n",
       "      <td>IND583101AAA</td>\n",
       "      <td>Bellary_Dc (Karnataka)</td>\n",
       "      <td>IND583119AAA</td>\n",
       "      <td>Sandur_WrdN1DPP_D (Karnataka)</td>\n",
       "      <td>11.973</td>\n",
       "      <td>152.0</td>\n",
       "      <td>127.448500</td>\n",
       "      <td>341.0</td>\n",
       "      <td>117.0</td>\n",
       "      <td>146.7918</td>\n",
       "      <td>340.0</td>\n",
       "      <td>146.7919</td>\n",
       "      <td>115.0</td>\n",
       "    </tr>\n",
       "    <tr>\n",
       "      <th>5</th>\n",
       "      <td>training</td>\n",
       "      <td>2018-09-12 00:02:34.161600</td>\n",
       "      <td>thanos::sroute:9bf03170-d0a2-4a3f-aa4d-9aaab3d...</td>\n",
       "      <td>Carting</td>\n",
       "      <td>trip-153671055416136166</td>\n",
       "      <td>IND600056AAA</td>\n",
       "      <td>Chennai_Poonamallee (Tamil Nadu)</td>\n",
       "      <td>IND600056AAA</td>\n",
       "      <td>Chennai_Poonamallee (Tamil Nadu)</td>\n",
       "      <td>3.175</td>\n",
       "      <td>60.0</td>\n",
       "      <td>24.597048</td>\n",
       "      <td>61.0</td>\n",
       "      <td>23.0</td>\n",
       "      <td>28.0647</td>\n",
       "      <td>60.0</td>\n",
       "      <td>28.0647</td>\n",
       "      <td>23.0</td>\n",
       "    </tr>\n",
       "    <tr>\n",
       "      <th>6</th>\n",
       "      <td>training</td>\n",
       "      <td>2018-09-12 00:04:22.011653</td>\n",
       "      <td>thanos::sroute:a97698cc-846e-41a7-916b-88b1741...</td>\n",
       "      <td>Carting</td>\n",
       "      <td>trip-153671066201138152</td>\n",
       "      <td>IND600044AAD</td>\n",
       "      <td>Chennai_Chrompet_DPC (Tamil Nadu)</td>\n",
       "      <td>IND600048AAA</td>\n",
       "      <td>Chennai_Vandalur_Dc (Tamil Nadu)</td>\n",
       "      <td>1.633</td>\n",
       "      <td>98.0</td>\n",
       "      <td>9.100510</td>\n",
       "      <td>24.0</td>\n",
       "      <td>13.0</td>\n",
       "      <td>12.0184</td>\n",
       "      <td>24.0</td>\n",
       "      <td>12.0184</td>\n",
       "      <td>13.0</td>\n",
       "    </tr>\n",
       "  </tbody>\n",
       "</table>\n",
       "</div>"
      ],
      "text/plain": [
       "       data         trip_creation_time  \\\n",
       "1  training 2018-09-12 00:00:22.886430   \n",
       "3  training 2018-09-12 00:01:00.113710   \n",
       "4  training 2018-09-12 00:02:09.740725   \n",
       "5  training 2018-09-12 00:02:34.161600   \n",
       "6  training 2018-09-12 00:04:22.011653   \n",
       "\n",
       "                                 route_schedule_uuid route_type  \\\n",
       "1  thanos::sroute:3a1b0ab2-bb0b-4c53-8c59-eb2a2c0...    Carting   \n",
       "3  thanos::sroute:f0176492-a679-4597-8332-bbd1c7f...    Carting   \n",
       "4  thanos::sroute:d9f07b12-65e0-4f3b-bec8-df06134...        FTL   \n",
       "5  thanos::sroute:9bf03170-d0a2-4a3f-aa4d-9aaab3d...    Carting   \n",
       "6  thanos::sroute:a97698cc-846e-41a7-916b-88b1741...    Carting   \n",
       "\n",
       "                 trip_uuid source_center                        source_name  \\\n",
       "1  trip-153671042288605164  IND561203AAB  Doddablpur_ChikaDPP_D (Karnataka)   \n",
       "3  trip-153671046011330457  IND400072AAB           Mumbai Hub (Maharashtra)   \n",
       "4  trip-153671052974046625  IND583101AAA             Bellary_Dc (Karnataka)   \n",
       "5  trip-153671055416136166  IND600056AAA   Chennai_Poonamallee (Tamil Nadu)   \n",
       "6  trip-153671066201138152  IND600044AAD  Chennai_Chrompet_DPC (Tamil Nadu)   \n",
       "\n",
       "  destination_center                   destination_name  od_time_diff_hour  \\\n",
       "1       IND561203AAB  Doddablpur_ChikaDPP_D (Karnataka)              3.027   \n",
       "3       IND401104AAA     Mumbai_MiraRd_IP (Maharashtra)              1.675   \n",
       "4       IND583119AAA      Sandur_WrdN1DPP_D (Karnataka)             11.973   \n",
       "5       IND600056AAA   Chennai_Poonamallee (Tamil Nadu)              3.175   \n",
       "6       IND600048AAA   Chennai_Vandalur_Dc (Tamil Nadu)              1.633   \n",
       "\n",
       "   start_scan_to_end_scan  actual_distance_to_destination  actual_time  \\\n",
       "1                    58.0                       73.186911        143.0   \n",
       "3                   100.0                       17.175274         59.0   \n",
       "4                   152.0                      127.448500        341.0   \n",
       "5                    60.0                       24.597048         61.0   \n",
       "6                    98.0                        9.100510         24.0   \n",
       "\n",
       "   osrm_time  osrm_distance  segment_actual_time_sum  \\\n",
       "1       68.0        85.1110                    141.0   \n",
       "3       15.0        19.6800                     59.0   \n",
       "4      117.0       146.7918                    340.0   \n",
       "5       23.0        28.0647                     60.0   \n",
       "6       13.0        12.0184                     24.0   \n",
       "\n",
       "   segment_osrm_distance_sum  segment_osrm_time_sum  \n",
       "1                    84.1894                   65.0  \n",
       "3                    19.8766                   16.0  \n",
       "4                   146.7919                  115.0  \n",
       "5                    28.0647                   23.0  \n",
       "6                    12.0184                   13.0  "
      ]
     },
     "execution_count": 40,
     "metadata": {},
     "output_type": "execute_result"
    }
   ],
   "source": [
    "# Removing Outilers -\n",
    "\n",
    "trip = trip[~((trip[num_cols]<lower_bond )| (trip[num_cols] > upper_bond)).any(axis=1)]\n",
    "trip.head()"
   ]
  },
  {
   "cell_type": "code",
   "execution_count": 41,
   "id": "fb7dd84a",
   "metadata": {},
   "outputs": [
    {
     "name": "stdout",
     "output_type": "stream",
     "text": [
      "(12369, 18)\n"
     ]
    }
   ],
   "source": [
    "# shape of the data set after removing outliers -\n",
    "print(trip.shape)"
   ]
  },
  {
   "cell_type": "code",
   "execution_count": 42,
   "id": "57453650",
   "metadata": {},
   "outputs": [
    {
     "data": {
      "image/png": "[encoded data removed]",
      "text/plain": [
       "<Figure size 2000x800 with 1 Axes>"
      ]
     },
     "metadata": {},
     "output_type": "display_data"
    }
   ],
   "source": [
    "# After removing outliers -\n",
    "plt.figure(figsize=(20,8))\n",
    "sns.boxplot(data=trip[num_cols])\n",
    "plt.xticks(rotation=20)\n",
    "plt.show()"
   ]
  },
  {
   "cell_type": "markdown",
   "id": "cde98e74",
   "metadata": {},
   "source": [
    "* After removing the outliers value still we can see the outlier in almost all column. Here removing outlier is not ideal soltuion we can say that."
   ]
  },
  {
   "cell_type": "markdown",
   "id": "67dd1db9",
   "metadata": {},
   "source": [
    "### Handling Categorical Variables"
   ]
  },
  {
   "cell_type": "markdown",
   "id": "ac4cd79c",
   "metadata": {},
   "source": [
    "* There are only two categorical columns are there and they are data and route_type"
   ]
  },
  {
   "cell_type": "code",
   "execution_count": 43,
   "id": "8433c513",
   "metadata": {},
   "outputs": [
    {
     "name": "stdout",
     "output_type": "stream",
     "text": [
      "Axes(0.125,0.11;0.775x0.77)\n",
      "training    8827\n",
      "test        3542\n",
      "Name: data, dtype: int64\n"
     ]
    },
    {
     "data": {
      "image/png": "[encoded data removed]",
      "text/plain": [
       "<Figure size 640x480 with 1 Axes>"
      ]
     },
     "metadata": {},
     "output_type": "display_data"
    }
   ],
   "source": [
    "print(sns.countplot(data=trip,x='data'))\n",
    "print(trip['data'].value_counts())\n",
    "plt.show()"
   ]
  },
  {
   "cell_type": "code",
   "execution_count": 44,
   "id": "2a5af473",
   "metadata": {},
   "outputs": [
    {
     "name": "stdout",
     "output_type": "stream",
     "text": [
      "Axes(0.125,0.11;0.775x0.77)\n",
      "Carting    8713\n",
      "FTL        3656\n",
      "Name: route_type, dtype: int64\n"
     ]
    },
    {
     "data": {
      "image/png": "[encoded data removed]",
      "text/plain": [
       "<Figure size 640x480 with 1 Axes>"
      ]
     },
     "metadata": {},
     "output_type": "display_data"
    }
   ],
   "source": [
    "print(sns.countplot(data=trip,x='route_type'))\n",
    "print(trip['route_type'].value_counts())\n",
    "plt.show()"
   ]
  },
  {
   "cell_type": "markdown",
   "id": "b278c26e",
   "metadata": {},
   "source": [
    "- FTL – Full Truck Load: FTL shipments get to the destination sooner, as the truck is making no other pickups or drop-offs along the way\n",
    "- Carting: Handling system consisting of small vehicles (carts)\n"
   ]
  },
  {
   "cell_type": "markdown",
   "id": "783bb363",
   "metadata": {},
   "source": [
    "**Insight**\n",
    "* The 'data' column has two unique values: 'training' and 'test'. The majority of the data falls into the 'training' category with 8827 instances. The 'test' category has 3542 instances.\n",
    "* The 'route_type' column has two unique values: 'Carting' and 'FTL'. The majority of the trips have a 'route_type' of 'Carting' with 8713 instances. There are fewer instances with a 'route_type' of 'FTL', totaling 3656 instances."
   ]
  },
  {
   "cell_type": "markdown",
   "id": "c8cf56d9",
   "metadata": {},
   "source": [
    "##  Perform one-hot encoding on categorical features."
   ]
  },
  {
   "cell_type": "code",
   "execution_count": 45,
   "id": "024c0b45",
   "metadata": {},
   "outputs": [],
   "source": [
    "trip['data'] = trip['data'].replace({'test':0,'training':1})\n",
    "trip['route_type'] = trip['route_type'].replace({'Carting':0,'FTL':1})"
   ]
  },
  {
   "cell_type": "markdown",
   "id": "8fe6c4e7",
   "metadata": {},
   "source": [
    "## Normalize/ Standardize the numerical features using MinMaxScaler or StandardScaler."
   ]
  },
  {
   "cell_type": "code",
   "execution_count": 46,
   "id": "b39ad408",
   "metadata": {},
   "outputs": [],
   "source": [
    "from sklearn.preprocessing import MinMaxScaler, StandardScaler"
   ]
  },
  {
   "cell_type": "markdown",
   "id": "74ff7316",
   "metadata": {},
   "source": [
    "### Normalizations -\n"
   ]
  },
  {
   "cell_type": "code",
   "execution_count": 47,
   "id": "dfe22400",
   "metadata": {},
   "outputs": [
    {
     "data": {
      "text/html": [
       "<div>\n",
       "<style scoped>\n",
       "    .dataframe tbody tr th:only-of-type {\n",
       "        vertical-align: middle;\n",
       "    }\n",
       "\n",
       "    .dataframe tbody tr th {\n",
       "        vertical-align: top;\n",
       "    }\n",
       "\n",
       "    .dataframe thead th {\n",
       "        text-align: right;\n",
       "    }\n",
       "</style>\n",
       "<table border=\"1\" class=\"dataframe\">\n",
       "  <thead>\n",
       "    <tr style=\"text-align: right;\">\n",
       "      <th></th>\n",
       "      <th>start_scan_to_end_scan</th>\n",
       "      <th>actual_distance_to_destination</th>\n",
       "      <th>actual_time</th>\n",
       "      <th>osrm_time</th>\n",
       "      <th>osrm_distance</th>\n",
       "      <th>segment_actual_time_sum</th>\n",
       "      <th>segment_osrm_distance_sum</th>\n",
       "      <th>segment_osrm_time_sum</th>\n",
       "      <th>od_time_diff_hour</th>\n",
       "    </tr>\n",
       "  </thead>\n",
       "  <tbody>\n",
       "    <tr>\n",
       "      <th>count</th>\n",
       "      <td>12369.000000</td>\n",
       "      <td>12369.000000</td>\n",
       "      <td>12369.000000</td>\n",
       "      <td>12369.000000</td>\n",
       "      <td>12369.000000</td>\n",
       "      <td>12369.000000</td>\n",
       "      <td>12369.000000</td>\n",
       "      <td>12369.000000</td>\n",
       "      <td>12369.000000</td>\n",
       "    </tr>\n",
       "    <tr>\n",
       "      <th>mean</th>\n",
       "      <td>0.255579</td>\n",
       "      <td>0.167571</td>\n",
       "      <td>0.200515</td>\n",
       "      <td>0.187526</td>\n",
       "      <td>0.175424</td>\n",
       "      <td>0.199743</td>\n",
       "      <td>0.178741</td>\n",
       "      <td>0.191156</td>\n",
       "      <td>0.210663</td>\n",
       "    </tr>\n",
       "    <tr>\n",
       "      <th>std</th>\n",
       "      <td>0.197460</td>\n",
       "      <td>0.192632</td>\n",
       "      <td>0.187523</td>\n",
       "      <td>0.191060</td>\n",
       "      <td>0.191531</td>\n",
       "      <td>0.187388</td>\n",
       "      <td>0.192158</td>\n",
       "      <td>0.194576</td>\n",
       "      <td>0.178298</td>\n",
       "    </tr>\n",
       "    <tr>\n",
       "      <th>min</th>\n",
       "      <td>0.000000</td>\n",
       "      <td>0.000000</td>\n",
       "      <td>0.000000</td>\n",
       "      <td>0.000000</td>\n",
       "      <td>0.000000</td>\n",
       "      <td>0.000000</td>\n",
       "      <td>0.000000</td>\n",
       "      <td>0.000000</td>\n",
       "      <td>0.000000</td>\n",
       "    </tr>\n",
       "    <tr>\n",
       "      <th>25%</th>\n",
       "      <td>0.112633</td>\n",
       "      <td>0.033645</td>\n",
       "      <td>0.063275</td>\n",
       "      <td>0.051491</td>\n",
       "      <td>0.041657</td>\n",
       "      <td>0.062422</td>\n",
       "      <td>0.041732</td>\n",
       "      <td>0.049875</td>\n",
       "      <td>0.083262</td>\n",
       "    </tr>\n",
       "    <tr>\n",
       "      <th>50%</th>\n",
       "      <td>0.196347</td>\n",
       "      <td>0.077779</td>\n",
       "      <td>0.126551</td>\n",
       "      <td>0.111111</td>\n",
       "      <td>0.082929</td>\n",
       "      <td>0.124844</td>\n",
       "      <td>0.090834</td>\n",
       "      <td>0.112219</td>\n",
       "      <td>0.152940</td>\n",
       "    </tr>\n",
       "    <tr>\n",
       "      <th>75%</th>\n",
       "      <td>0.340944</td>\n",
       "      <td>0.251369</td>\n",
       "      <td>0.286600</td>\n",
       "      <td>0.262873</td>\n",
       "      <td>0.261191</td>\n",
       "      <td>0.285893</td>\n",
       "      <td>0.263253</td>\n",
       "      <td>0.281796</td>\n",
       "      <td>0.282084</td>\n",
       "    </tr>\n",
       "    <tr>\n",
       "      <th>max</th>\n",
       "      <td>1.000000</td>\n",
       "      <td>1.000000</td>\n",
       "      <td>1.000000</td>\n",
       "      <td>1.000000</td>\n",
       "      <td>1.000000</td>\n",
       "      <td>1.000000</td>\n",
       "      <td>1.000000</td>\n",
       "      <td>1.000000</td>\n",
       "      <td>1.000000</td>\n",
       "    </tr>\n",
       "  </tbody>\n",
       "</table>\n",
       "</div>"
      ],
      "text/plain": [
       "       start_scan_to_end_scan  actual_distance_to_destination   actual_time  \\\n",
       "count            12369.000000                    12369.000000  12369.000000   \n",
       "mean                 0.255579                        0.167571      0.200515   \n",
       "std                  0.197460                        0.192632      0.187523   \n",
       "min                  0.000000                        0.000000      0.000000   \n",
       "25%                  0.112633                        0.033645      0.063275   \n",
       "50%                  0.196347                        0.077779      0.126551   \n",
       "75%                  0.340944                        0.251369      0.286600   \n",
       "max                  1.000000                        1.000000      1.000000   \n",
       "\n",
       "          osrm_time  osrm_distance  segment_actual_time_sum  \\\n",
       "count  12369.000000   12369.000000             12369.000000   \n",
       "mean       0.187526       0.175424                 0.199743   \n",
       "std        0.191060       0.191531                 0.187388   \n",
       "min        0.000000       0.000000                 0.000000   \n",
       "25%        0.051491       0.041657                 0.062422   \n",
       "50%        0.111111       0.082929                 0.124844   \n",
       "75%        0.262873       0.261191                 0.285893   \n",
       "max        1.000000       1.000000                 1.000000   \n",
       "\n",
       "       segment_osrm_distance_sum  segment_osrm_time_sum  od_time_diff_hour  \n",
       "count               12369.000000           12369.000000       12369.000000  \n",
       "mean                    0.178741               0.191156           0.210663  \n",
       "std                     0.192158               0.194576           0.178298  \n",
       "min                     0.000000               0.000000           0.000000  \n",
       "25%                     0.041732               0.049875           0.083262  \n",
       "50%                     0.090834               0.112219           0.152940  \n",
       "75%                     0.263253               0.281796           0.282084  \n",
       "max                     1.000000               1.000000           1.000000  "
      ]
     },
     "execution_count": 47,
     "metadata": {},
     "output_type": "execute_result"
    }
   ],
   "source": [
    "# Normalizations -\n",
    "ab = trip\n",
    "min_max_scaler = MinMaxScaler()\n",
    "ab[num_cols] = min_max_scaler.fit_transform(ab[num_cols])\n",
    "ab[num_cols].describe()"
   ]
  },
  {
   "cell_type": "markdown",
   "id": "25702b1c",
   "metadata": {},
   "source": [
    "**Insights:**\n",
    "\n",
    "* The min-max scaling has transformed the numerical columns to a common scale (0 to 1). This is particularly useful when the features in our dataset have different ranges, and you want to ensure that each feature contributes equally to the analysis.\n",
    "* The minimum value for all columns is 0, and the maximum value is 1, as expected in a Min-Max scaling.\n",
    "* The mean and standard deviation of the columns have changed due to scaling. The mean for each column is now centered around 0.5, and the standard deviation reflects the spread of values within the scaled range."
   ]
  },
  {
   "cell_type": "markdown",
   "id": "a17b7346",
   "metadata": {},
   "source": [
    "### standardization "
   ]
  },
  {
   "cell_type": "code",
   "execution_count": 48,
   "id": "2ca74b5d",
   "metadata": {},
   "outputs": [
    {
     "data": {
      "text/html": [
       "<div>\n",
       "<style scoped>\n",
       "    .dataframe tbody tr th:only-of-type {\n",
       "        vertical-align: middle;\n",
       "    }\n",
       "\n",
       "    .dataframe tbody tr th {\n",
       "        vertical-align: top;\n",
       "    }\n",
       "\n",
       "    .dataframe thead th {\n",
       "        text-align: right;\n",
       "    }\n",
       "</style>\n",
       "<table border=\"1\" class=\"dataframe\">\n",
       "  <thead>\n",
       "    <tr style=\"text-align: right;\">\n",
       "      <th></th>\n",
       "      <th>start_scan_to_end_scan</th>\n",
       "      <th>actual_distance_to_destination</th>\n",
       "      <th>actual_time</th>\n",
       "      <th>osrm_time</th>\n",
       "      <th>osrm_distance</th>\n",
       "      <th>segment_actual_time_sum</th>\n",
       "      <th>segment_osrm_distance_sum</th>\n",
       "      <th>segment_osrm_time_sum</th>\n",
       "      <th>od_time_diff_hour</th>\n",
       "    </tr>\n",
       "  </thead>\n",
       "  <tbody>\n",
       "    <tr>\n",
       "      <th>count</th>\n",
       "      <td>1.236900e+04</td>\n",
       "      <td>1.236900e+04</td>\n",
       "      <td>1.236900e+04</td>\n",
       "      <td>1.236900e+04</td>\n",
       "      <td>1.236900e+04</td>\n",
       "      <td>1.236900e+04</td>\n",
       "      <td>1.236900e+04</td>\n",
       "      <td>1.236900e+04</td>\n",
       "      <td>1.236900e+04</td>\n",
       "    </tr>\n",
       "    <tr>\n",
       "      <th>mean</th>\n",
       "      <td>6.204108e-17</td>\n",
       "      <td>8.501926e-17</td>\n",
       "      <td>1.976123e-16</td>\n",
       "      <td>-1.953145e-16</td>\n",
       "      <td>7.582799e-17</td>\n",
       "      <td>-4.595636e-17</td>\n",
       "      <td>-1.148909e-17</td>\n",
       "      <td>9.880617e-17</td>\n",
       "      <td>-2.024952e-16</td>\n",
       "    </tr>\n",
       "    <tr>\n",
       "      <th>std</th>\n",
       "      <td>1.000040e+00</td>\n",
       "      <td>1.000040e+00</td>\n",
       "      <td>1.000040e+00</td>\n",
       "      <td>1.000040e+00</td>\n",
       "      <td>1.000040e+00</td>\n",
       "      <td>1.000040e+00</td>\n",
       "      <td>1.000040e+00</td>\n",
       "      <td>1.000040e+00</td>\n",
       "      <td>1.000040e+00</td>\n",
       "    </tr>\n",
       "    <tr>\n",
       "      <th>min</th>\n",
       "      <td>-1.294388e+00</td>\n",
       "      <td>-8.699409e-01</td>\n",
       "      <td>-1.069325e+00</td>\n",
       "      <td>-9.815439e-01</td>\n",
       "      <td>-9.159362e-01</td>\n",
       "      <td>-1.065975e+00</td>\n",
       "      <td>-9.302128e-01</td>\n",
       "      <td>-9.824639e-01</td>\n",
       "      <td>-1.181572e+00</td>\n",
       "    </tr>\n",
       "    <tr>\n",
       "      <th>25%</th>\n",
       "      <td>-7.239542e-01</td>\n",
       "      <td>-6.952732e-01</td>\n",
       "      <td>-7.318846e-01</td>\n",
       "      <td>-7.120339e-01</td>\n",
       "      <td>-6.984315e-01</td>\n",
       "      <td>-7.328453e-01</td>\n",
       "      <td>-7.130304e-01</td>\n",
       "      <td>-7.261249e-01</td>\n",
       "      <td>-7.145694e-01</td>\n",
       "    </tr>\n",
       "    <tr>\n",
       "      <th>50%</th>\n",
       "      <td>-2.999829e-01</td>\n",
       "      <td>-4.661535e-01</td>\n",
       "      <td>-3.944439e-01</td>\n",
       "      <td>-3.999697e-01</td>\n",
       "      <td>-4.829410e-01</td>\n",
       "      <td>-3.997157e-01</td>\n",
       "      <td>-4.574911e-01</td>\n",
       "      <td>-4.057012e-01</td>\n",
       "      <td>-3.237604e-01</td>\n",
       "    </tr>\n",
       "    <tr>\n",
       "      <th>75%</th>\n",
       "      <td>4.323311e-01</td>\n",
       "      <td>4.350315e-01</td>\n",
       "      <td>4.590826e-01</td>\n",
       "      <td>3.943756e-01</td>\n",
       "      <td>4.478181e-01</td>\n",
       "      <td>4.597587e-01</td>\n",
       "      <td>4.398272e-01</td>\n",
       "      <td>4.658514e-01</td>\n",
       "      <td>4.005860e-01</td>\n",
       "    </tr>\n",
       "    <tr>\n",
       "      <th>max</th>\n",
       "      <td>3.770141e+00</td>\n",
       "      <td>4.321525e+00</td>\n",
       "      <td>4.263561e+00</td>\n",
       "      <td>4.252624e+00</td>\n",
       "      <td>4.305349e+00</td>\n",
       "      <td>4.270762e+00</td>\n",
       "      <td>4.274051e+00</td>\n",
       "      <td>4.157133e+00</td>\n",
       "      <td>4.427256e+00</td>\n",
       "    </tr>\n",
       "  </tbody>\n",
       "</table>\n",
       "</div>"
      ],
      "text/plain": [
       "       start_scan_to_end_scan  actual_distance_to_destination   actual_time  \\\n",
       "count            1.236900e+04                    1.236900e+04  1.236900e+04   \n",
       "mean             6.204108e-17                    8.501926e-17  1.976123e-16   \n",
       "std              1.000040e+00                    1.000040e+00  1.000040e+00   \n",
       "min             -1.294388e+00                   -8.699409e-01 -1.069325e+00   \n",
       "25%             -7.239542e-01                   -6.952732e-01 -7.318846e-01   \n",
       "50%             -2.999829e-01                   -4.661535e-01 -3.944439e-01   \n",
       "75%              4.323311e-01                    4.350315e-01  4.590826e-01   \n",
       "max              3.770141e+00                    4.321525e+00  4.263561e+00   \n",
       "\n",
       "          osrm_time  osrm_distance  segment_actual_time_sum  \\\n",
       "count  1.236900e+04   1.236900e+04             1.236900e+04   \n",
       "mean  -1.953145e-16   7.582799e-17            -4.595636e-17   \n",
       "std    1.000040e+00   1.000040e+00             1.000040e+00   \n",
       "min   -9.815439e-01  -9.159362e-01            -1.065975e+00   \n",
       "25%   -7.120339e-01  -6.984315e-01            -7.328453e-01   \n",
       "50%   -3.999697e-01  -4.829410e-01            -3.997157e-01   \n",
       "75%    3.943756e-01   4.478181e-01             4.597587e-01   \n",
       "max    4.252624e+00   4.305349e+00             4.270762e+00   \n",
       "\n",
       "       segment_osrm_distance_sum  segment_osrm_time_sum  od_time_diff_hour  \n",
       "count               1.236900e+04           1.236900e+04       1.236900e+04  \n",
       "mean               -1.148909e-17           9.880617e-17      -2.024952e-16  \n",
       "std                 1.000040e+00           1.000040e+00       1.000040e+00  \n",
       "min                -9.302128e-01          -9.824639e-01      -1.181572e+00  \n",
       "25%                -7.130304e-01          -7.261249e-01      -7.145694e-01  \n",
       "50%                -4.574911e-01          -4.057012e-01      -3.237604e-01  \n",
       "75%                 4.398272e-01           4.658514e-01       4.005860e-01  \n",
       "max                 4.274051e+00           4.157133e+00       4.427256e+00  "
      ]
     },
     "execution_count": 48,
     "metadata": {},
     "output_type": "execute_result"
    }
   ],
   "source": [
    "# standardization -\n",
    "ba = trip\n",
    "standard = StandardScaler()\n",
    "ba[num_cols] = standard.fit_transform(ba[num_cols])\n",
    "ba[num_cols].describe()"
   ]
  },
  {
   "cell_type": "markdown",
   "id": "5217dbba",
   "metadata": {},
   "source": [
    "## Hypothesis Testing:"
   ]
  },
  {
   "cell_type": "markdown",
   "id": "f59e1663",
   "metadata": {},
   "source": [
    "### a. actual_time aggregated value and OSRM time aggregated value.\n"
   ]
  },
  {
   "cell_type": "code",
   "execution_count": 49,
   "id": "5f30e364",
   "metadata": {},
   "outputs": [
    {
     "name": "stdout",
     "output_type": "stream",
     "text": [
      "T-Statistic value : 0.0 \n",
      "P-value 1.0\n",
      "Fail to reject the null hypothesis: The mean actual_time is equal to the mean OSRM time.\n"
     ]
    }
   ],
   "source": [
    "# Null hypothesis (H0) : The mean actual_time is equal to the mean OSRM time.\n",
    "# Alternate hypothesis (Ha): The mean actual_time is not equal to the mean OSRM time\n",
    "\n",
    "t_stat, p_value = ttest_ind(trip['actual_time'], trip['osrm_time'])\n",
    "\n",
    "# Print the results\n",
    "print(f'T-Statistic value : {t_stat.round(4)} \\nP-value {p_value.round(4)}')\n",
    "\n",
    "# Set a significance level (alpha=0.05)\n",
    "alpha = 0.05\n",
    "# Decision based on p-value\n",
    "if p_value <= alpha:\n",
    "    print(\"Reject the null hypothesis: The mean actual_time is not equal to the mean OSRM time \")\n",
    "else:\n",
    "    print(\"Fail to reject the null hypothesis: The mean actual_time is equal to the mean OSRM time.\")"
   ]
  },
  {
   "cell_type": "code",
   "execution_count": 50,
   "id": "acc10ffd",
   "metadata": {},
   "outputs": [
    {
     "data": {
      "image/png": "[encoded data removed]",
      "text/plain": [
       "<Figure size 640x480 with 1 Axes>"
      ]
     },
     "metadata": {},
     "output_type": "display_data"
    }
   ],
   "source": [
    "plt.scatter(trip['actual_time'], trip['osrm_time'])\n",
    "plt.xlabel('Actual Time')\n",
    "plt.ylabel('OSRM Time')\n",
    "plt.title('Scatter Plot: Actual Time vs OSRM Time')\n",
    "plt.show()"
   ]
  },
  {
   "cell_type": "markdown",
   "id": "67205105",
   "metadata": {},
   "source": [
    "* Here means between them Actual time and osrm time is same we don't have enough evidence reject null hypothesis. According scatter plot we can say the distribution between them is different"
   ]
  },
  {
   "cell_type": "markdown",
   "id": "2c6b2f8f",
   "metadata": {},
   "source": [
    "### b. actual_time aggregated value and segment actual time aggregated value."
   ]
  },
  {
   "cell_type": "code",
   "execution_count": 51,
   "id": "ad20874e",
   "metadata": {},
   "outputs": [
    {
     "name": "stdout",
     "output_type": "stream",
     "text": [
      "T-Statistic value : 0.0 \n",
      "P-value 1.0\n",
      "Fail to reject the null hypothesis: The mean actual_time is equal to the mean segment actual time time.\n"
     ]
    }
   ],
   "source": [
    "# Null hypothesis (H0) : The mean actual_time is equal to the mean segment actual time time.\n",
    "# Alternate hypothesis (Ha): The mean actual_time is not equal to the mean segment actual time time\n",
    "\n",
    "t_stat, p_value = ttest_ind(trip['actual_time'], trip['segment_actual_time_sum'])\n",
    "\n",
    "# Print the results\n",
    "print(f'T-Statistic value : {t_stat.round(4)} \\nP-value {p_value.round(4)}')\n",
    "\n",
    "# Set a significance level (alpha=0.05)\n",
    "alpha = 0.05\n",
    "# Decision based on p-value\n",
    "if p_value <= alpha:\n",
    "    print(\"Reject the null hypothesis: The mean actual_time is not equal to the mean segment actual time time \")\n",
    "else:\n",
    "    print(\"Fail to reject the null hypothesis: The mean actual_time is equal to the mean segment actual time time.\")\n"
   ]
  },
  {
   "cell_type": "code",
   "execution_count": 52,
   "id": "6812f71d",
   "metadata": {},
   "outputs": [
    {
     "data": {
      "image/png": "[encoded data removed]",
      "text/plain": [
       "<Figure size 640x480 with 1 Axes>"
      ]
     },
     "metadata": {},
     "output_type": "display_data"
    }
   ],
   "source": [
    "plt.scatter(trip['actual_time'], trip['segment_actual_time_sum'])\n",
    "plt.xlabel('Actual Time')\n",
    "plt.ylabel('Segment Actual Time Sum')\n",
    "plt.title('Scatter Plot: Actual Time vs Segment Actual Time Sum')\n",
    "plt.show()\n",
    "\n"
   ]
  },
  {
   "cell_type": "markdown",
   "id": "8b63c970",
   "metadata": {},
   "source": [
    "* There is a strong positive linear relationship between Actual time and Segment actual time, indicating that there is no significant difference between the two variables. Statistically, the means of the two variables are found to be the same, leading to the conclusion of failing to reject the null hypothesis that the mean Actual time is equal to the mean Segment actual time."
   ]
  },
  {
   "cell_type": "markdown",
   "id": "17c702cf",
   "metadata": {},
   "source": [
    "### c. OSRM distance aggregated value and segment OSRM distance aggregated value.\n"
   ]
  },
  {
   "cell_type": "code",
   "execution_count": 53,
   "id": "b60df465",
   "metadata": {},
   "outputs": [
    {
     "name": "stdout",
     "output_type": "stream",
     "text": [
      "T-Statistic value : 0.0 \n",
      "P-value 1.0\n",
      "Fail to reject the null hypothesis: The mean osrm distance is equal to the mean segment osrm distance.\n"
     ]
    }
   ],
   "source": [
    "# Null hypothesis (H0) : The mean osrm distance is equal to the mean segment osrm distance.\n",
    "# Alternate hypothesis (Ha): The mean osrm distance is not equal to the mean segment osrm distance.\n",
    "\n",
    "t_stat, p_value = ttest_ind(trip['osrm_distance'], trip['segment_osrm_distance_sum'])\n",
    "\n",
    "# Print the results\n",
    "print(f'T-Statistic value : {t_stat.round(4)} \\nP-value {p_value.round(4)}')\n",
    "\n",
    "# Set a significance level (alpha=0.05)\n",
    "alpha = 0.05\n",
    "# Decision based on p-value\n",
    "if p_value <= alpha:\n",
    "    print(\"Reject the null hypothesis: The mean osrm distance is not equal to the mean segment osrm distance.\")\n",
    "else:\n",
    "    print(\"Fail to reject the null hypothesis: The mean osrm distance is equal to the mean segment osrm distance.\")\n"
   ]
  },
  {
   "cell_type": "code",
   "execution_count": 54,
   "id": "f2f17662",
   "metadata": {},
   "outputs": [
    {
     "data": {
      "image/png": "[encoded data removed]",
      "text/plain": [
       "<Figure size 640x480 with 1 Axes>"
      ]
     },
     "metadata": {},
     "output_type": "display_data"
    }
   ],
   "source": [
    "plt.scatter(trip['osrm_distance'], trip['segment_osrm_distance_sum'])\n",
    "plt.xlabel('OSRM Distance')\n",
    "plt.ylabel('Segment OSRM Distance Sum')\n",
    "plt.title('Scatter Plot: OSRM Distance vs Segment OSRM Distance Sum')\n",
    "plt.show()\n"
   ]
  },
  {
   "cell_type": "markdown",
   "id": "10c6239a",
   "metadata": {},
   "source": [
    "### d. OSRM time aggregated value and segment OSRM time aggregated value.\n"
   ]
  },
  {
   "cell_type": "code",
   "execution_count": 55,
   "id": "ddcf5601",
   "metadata": {},
   "outputs": [
    {
     "name": "stdout",
     "output_type": "stream",
     "text": [
      "T-Statistic value : -0.0 \n",
      "P-value 1.0\n",
      "Fail to reject the null hypothesis: The mean osrm time is equal to the mean segment osrm time sum.\n"
     ]
    }
   ],
   "source": [
    "# Null hypothesis (H0) : The mean osrm time is equal to the mean segment osrm time sum.\n",
    "# Alternate hypothesis (Ha): The mean osrm time is not equal to the mean segment osrm time sum.\n",
    "\n",
    "t_stat, p_value = ttest_ind(trip['osrm_time'], trip['segment_osrm_time_sum'])\n",
    "\n",
    "# Print the results\n",
    "print(f'T-Statistic value : {t_stat.round(4)} \\nP-value {p_value.round(4)}')\n",
    "\n",
    "# Set a significance level (alpha=0.05)\n",
    "alpha = 0.05\n",
    "# Decision based on p-value\n",
    "if p_value <= alpha:\n",
    "    print(\"Reject the null hypothesis: The mean osrm time is not equal to the mean segment osrm time sum.\")\n",
    "else:\n",
    "    print(\"Fail to reject the null hypothesis: The mean osrm time is equal to the mean segment osrm time sum.\")\n"
   ]
  },
  {
   "cell_type": "code",
   "execution_count": 56,
   "id": "eacee17d",
   "metadata": {},
   "outputs": [
    {
     "data": {
      "image/png": "[encoded data removed]",
      "text/plain": [
       "<Figure size 640x480 with 1 Axes>"
      ]
     },
     "metadata": {},
     "output_type": "display_data"
    }
   ],
   "source": [
    "plt.scatter(trip['osrm_time'], trip['segment_osrm_time_sum'])\n",
    "plt.xlabel('OSRM Time')\n",
    "plt.ylabel('Segment OSRM Time Sum')\n",
    "plt.title('Scatter Plot: OSRM Time vs Segment OSRM Time Sum')\n",
    "plt.show()"
   ]
  },
  {
   "cell_type": "markdown",
   "id": "a6130de8",
   "metadata": {},
   "source": [
    "**Insight:**\n",
    "* T-Statistic: The T-Statistic value of 0.0 suggests that there is no difference in means between the groups being compared.\n",
    "* P-Value: A P-value of 1.0 indicates that there is no statistically significant difference between the aggregated values. This suggests that, based on the information we have, there's no strong evidence to say that the two methods have significantly different average times.\n",
    "* Scatter Plot Shape: The scatter plot shows a pattern where data points are not forming a clear straight line. This suggests that there might not be a strong linear relationship between 'actual time' and 'osrm time'.\n",
    "* Actual time and segemnt actual time where data points are performing clear straight line. This suggests that there might be a strong linear relationship between 'actual time' and 'segemnt actual time'.\n",
    "\n",
    "**Recommendations:**\n",
    "* Since the test didn't find a significant difference, it means that, on average, the time calculated by the two methods is quite similar."
   ]
  },
  {
   "cell_type": "code",
   "execution_count": 57,
   "id": "ca0a4afc",
   "metadata": {},
   "outputs": [
    {
     "data": {
      "text/plain": [
       "Timestamp('2018-10-03 23:59:42.701692')"
      ]
     },
     "execution_count": 57,
     "metadata": {},
     "output_type": "execute_result"
    }
   ],
   "source": [
    "trip['trip_creation_time'].max()"
   ]
  },
  {
   "cell_type": "markdown",
   "id": "e7744ccb",
   "metadata": {},
   "source": [
    "# Business Insights:\n",
    "* The data is given from the period '2018-09-12 00:00:22.88' to '2018-10-03 23:59:42.70'\n",
    "* There are a total of 12,369 unique trip UUIDs created, indicating that this many trips are present in the dataset.\n",
    "* There are about 32 unique destination state, 1256 unique destination city, 778 unique destination place and 27 unique destination code.\n",
    "* There are about 31 unique source state, 1260 unique source city, 1177 unique source place and 24 unique source code.\n",
    "* Karnataka and Maharashtra serve as primary transportation hubs in Bangalore, with a higher number of trips originating from other states. Following this, Mumbai emerges as a bustling route. In Karnataka, Nelamangala stands out as the main destination, while Mumbai Central serves as the main destination in Mumbai.\n",
    "* Most of the data is for testing than for training.\n",
    "* Most common route type is Carting ( Handling system consisting of small vehicles (carts)).\n",
    "* Features Actual Time vs Segment Actual Time are statistically similar.\n",
    "* Features OSRM Distance vs Segment OSRM Distance are statistically different.\n",
    "* OSRM Time vs Segment OSRM Time there is enough evidence to say that this both are different.\n",
    "* Busiest Year: The dataset primarily consists of trips from the year 2018, with all 26,222 trips recorded during that year.\n",
    "* Busiest Month: September (Month 9) stands out as the busiest month, with a significant number of trips recorded (23,054 trips). October (Month 10) follows with a comparatively smaller number of trips (3,168).\n",
    "* Busiest Week: Week 38 appears to be the busiest week, accounting for 8,852 trips. The subsequent weeks 39, 37, and 40 also exhibit high activity with 7,905, 6,297, and 3,168 trips, respectively.\n",
    "* Busiest Day of the Week: Wednesday is identified as the busiest day of the week, with 4,819 trips. Thursday and Friday closely follow with 3,795 and 3,718 trips, respectively.\n",
    "* Busiest Day: The 18th day of the month is the busiest, recording 1,373 trips. Days 21, 13, 20, and 25 also exhibit high activity with similar trip counts.\n",
    "\n",
    "**Recommendation:**\n",
    "* Collect feedback from customers regarding their experience during trips. Analyze customer satisfaction metrics to identify areas for improvement and enhance overall service quality.\n",
    "* Conduct a detailed analysis of routes to identify opportunities for optimization. Focus on routes with statistically significant differences in OSRM Time and Segment OSRM Time to enhance efficiency.\n",
    "* Investigate the reasons behind the similarity observed in Actual Time vs. Segment Actual Time. Consider refining the segmentation process to ensure that segment-specific features contribute to better predictions.\n",
    "* Look at the routes and see where we can make them more efficient. Some routes might be faster or slower than expected, so we want to make sure they are just right.\n",
    "* Ask people about their trips and what they liked or didn't like. This helps us make sure our customers are happy and enjoy their rides.\n",
    "* Think about going to new places where people might need transportation. Maybe there are new routes we can offer or places we can expand to.\n",
    "* Most of the orders are coming from/reaching to states like Maharashtra, Karnataka, Haryana and Tamil Nadu. The existing corridors can be further enhanced to improve the penetration in these areas."
   ]
  },
  {
   "cell_type": "code",
   "execution_count": null,
   "id": "f43725ad",
   "metadata": {},
   "outputs": [],
   "source": []
  }
 ],
 "metadata": {
  "kernelspec": {
   "display_name": "Python 3 (ipykernel)",
   "language": "python",
   "name": "python3"
  },
  "language_info": {
   "codemirror_mode": {
    "name": "ipython",
    "version": 3
   },
   "file_extension": ".py",
   "mimetype": "text/x-python",
   "name": "python",
   "nbconvert_exporter": "python",
   "pygments_lexer": "ipython3",
   "version": "3.11.4"
  }
 },
 "nbformat": 4,
 "nbformat_minor": 5
}
